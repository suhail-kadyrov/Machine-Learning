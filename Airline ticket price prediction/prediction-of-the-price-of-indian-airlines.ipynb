{
 "cells": [
  {
   "cell_type": "code",
   "execution_count": 1,
   "id": "7351ccf1",
   "metadata": {
    "_cell_guid": "b1076dfc-b9ad-4769-8c92-a6c4dae69d19",
    "_uuid": "8f2839f25d086af736a60e9eeb907d3b93b6e0e5",
    "execution": {
     "iopub.execute_input": "2022-11-10T16:59:07.101182Z",
     "iopub.status.busy": "2022-11-10T16:59:07.100340Z",
     "iopub.status.idle": "2022-11-10T16:59:08.730758Z",
     "shell.execute_reply": "2022-11-10T16:59:08.729109Z"
    },
    "papermill": {
     "duration": 1.650814,
     "end_time": "2022-11-10T16:59:08.735012",
     "exception": false,
     "start_time": "2022-11-10T16:59:07.084198",
     "status": "completed"
    },
    "tags": []
   },
   "outputs": [
    {
     "name": "stdout",
     "output_type": "stream",
     "text": [
      "/kaggle/input/mohirdev/train_data.csv\n",
      "/kaggle/input/mohirdev/test_data.csv\n",
      "/kaggle/input/mohirdev/sample_solution.csv\n"
     ]
    }
   ],
   "source": [
    "# This Python 3 environment comes with many helpful analytics libraries installed\n",
    "# It is defined by the kaggle/python Docker image: https://github.com/kaggle/docker-python\n",
    "# For example, here's several helpful packages to load\n",
    "\n",
    "import numpy as np\n",
    "import pandas as pd\n",
    "import matplotlib.pyplot as plt\n",
    "%matplotlib inline\n",
    "import seaborn as sns\n",
    "from sklearn.base import BaseEstimator, TransformerMixin\n",
    "from sklearn.preprocessing import OrdinalEncoder\n",
    "from sklearn.preprocessing import MinMaxScaler\n",
    "from sklearn.pipeline import Pipeline\n",
    "from sklearn.compose import ColumnTransformer\n",
    "from sklearn.model_selection import train_test_split\n",
    "from sklearn.linear_model import LinearRegression\n",
    "from sklearn.tree import DecisionTreeRegressor\n",
    "from sklearn.ensemble import RandomForestRegressor\n",
    "from sklearn.metrics import mean_squared_error\n",
    "from sklearn.model_selection import cross_val_score\n",
    "\n",
    "# Input data files are available in the read-only \"../input/\" directory\n",
    "# For example, running this (by clicking run or pressing Shift+Enter) will list all files under the input directory\n",
    "\n",
    "import os\n",
    "for dirname, _, filenames in os.walk('/kaggle/input'):\n",
    "    for filename in filenames:\n",
    "        print(os.path.join(dirname, filename))\n",
    "\n",
    "# You can write up to 20GB to the current directory (/kaggle/working/) that gets preserved as output when you create a version using \"Save & Run All\" \n",
    "# You can also write temporary files to /kaggle/temp/, but they won't be saved outside of the current session"
   ]
  },
  {
   "cell_type": "markdown",
   "id": "d14d4369",
   "metadata": {
    "papermill": {
     "duration": 0.013149,
     "end_time": "2022-11-10T16:59:08.760253",
     "exception": false,
     "start_time": "2022-11-10T16:59:08.747104",
     "status": "completed"
    },
    "tags": []
   },
   "source": [
    "Notebook for the competition: https://www.kaggle.com/competitions/aviachipta-narxini-bashorat-qilish"
   ]
  },
  {
   "cell_type": "code",
   "execution_count": 2,
   "id": "8f64a914",
   "metadata": {
    "execution": {
     "iopub.execute_input": "2022-11-10T16:59:08.784381Z",
     "iopub.status.busy": "2022-11-10T16:59:08.783957Z",
     "iopub.status.idle": "2022-11-10T16:59:08.891753Z",
     "shell.execute_reply": "2022-11-10T16:59:08.890424Z"
    },
    "papermill": {
     "duration": 0.122783,
     "end_time": "2022-11-10T16:59:08.894258",
     "exception": false,
     "start_time": "2022-11-10T16:59:08.771475",
     "status": "completed"
    },
    "tags": []
   },
   "outputs": [
    {
     "data": {
      "text/html": [
       "<div>\n",
       "<style scoped>\n",
       "    .dataframe tbody tr th:only-of-type {\n",
       "        vertical-align: middle;\n",
       "    }\n",
       "\n",
       "    .dataframe tbody tr th {\n",
       "        vertical-align: top;\n",
       "    }\n",
       "\n",
       "    .dataframe thead th {\n",
       "        text-align: right;\n",
       "    }\n",
       "</style>\n",
       "<table border=\"1\" class=\"dataframe\">\n",
       "  <thead>\n",
       "    <tr style=\"text-align: right;\">\n",
       "      <th></th>\n",
       "      <th>id</th>\n",
       "      <th>airline</th>\n",
       "      <th>flight</th>\n",
       "      <th>source_city</th>\n",
       "      <th>departure_time</th>\n",
       "      <th>stops</th>\n",
       "      <th>arrival_time</th>\n",
       "      <th>destination_city</th>\n",
       "      <th>class</th>\n",
       "      <th>duration</th>\n",
       "      <th>days_left</th>\n",
       "      <th>price</th>\n",
       "    </tr>\n",
       "  </thead>\n",
       "  <tbody>\n",
       "    <tr>\n",
       "      <th>0</th>\n",
       "      <td>1</td>\n",
       "      <td>Vistara</td>\n",
       "      <td>UK-810</td>\n",
       "      <td>Bangalore</td>\n",
       "      <td>Early_Morning</td>\n",
       "      <td>one</td>\n",
       "      <td>Night</td>\n",
       "      <td>Mumbai</td>\n",
       "      <td>Economy</td>\n",
       "      <td>14.25</td>\n",
       "      <td>21</td>\n",
       "      <td>7212</td>\n",
       "    </tr>\n",
       "    <tr>\n",
       "      <th>1</th>\n",
       "      <td>2</td>\n",
       "      <td>SpiceJet</td>\n",
       "      <td>SG-5094</td>\n",
       "      <td>Hyderabad</td>\n",
       "      <td>Evening</td>\n",
       "      <td>zero</td>\n",
       "      <td>Night</td>\n",
       "      <td>Kolkata</td>\n",
       "      <td>Economy</td>\n",
       "      <td>1.75</td>\n",
       "      <td>7</td>\n",
       "      <td>5292</td>\n",
       "    </tr>\n",
       "    <tr>\n",
       "      <th>2</th>\n",
       "      <td>3</td>\n",
       "      <td>Vistara</td>\n",
       "      <td>UK-846</td>\n",
       "      <td>Bangalore</td>\n",
       "      <td>Morning</td>\n",
       "      <td>one</td>\n",
       "      <td>Evening</td>\n",
       "      <td>Delhi</td>\n",
       "      <td>Business</td>\n",
       "      <td>9.58</td>\n",
       "      <td>5</td>\n",
       "      <td>60553</td>\n",
       "    </tr>\n",
       "    <tr>\n",
       "      <th>3</th>\n",
       "      <td>4</td>\n",
       "      <td>Vistara</td>\n",
       "      <td>UK-706</td>\n",
       "      <td>Kolkata</td>\n",
       "      <td>Morning</td>\n",
       "      <td>one</td>\n",
       "      <td>Evening</td>\n",
       "      <td>Hyderabad</td>\n",
       "      <td>Economy</td>\n",
       "      <td>6.75</td>\n",
       "      <td>28</td>\n",
       "      <td>5760</td>\n",
       "    </tr>\n",
       "    <tr>\n",
       "      <th>4</th>\n",
       "      <td>5</td>\n",
       "      <td>Indigo</td>\n",
       "      <td>6E-5394</td>\n",
       "      <td>Chennai</td>\n",
       "      <td>Early_Morning</td>\n",
       "      <td>zero</td>\n",
       "      <td>Morning</td>\n",
       "      <td>Mumbai</td>\n",
       "      <td>Economy</td>\n",
       "      <td>2.00</td>\n",
       "      <td>4</td>\n",
       "      <td>10712</td>\n",
       "    </tr>\n",
       "  </tbody>\n",
       "</table>\n",
       "</div>"
      ],
      "text/plain": [
       "   id   airline   flight source_city departure_time stops arrival_time  \\\n",
       "0   1   Vistara   UK-810   Bangalore  Early_Morning   one        Night   \n",
       "1   2  SpiceJet  SG-5094   Hyderabad        Evening  zero        Night   \n",
       "2   3   Vistara   UK-846   Bangalore        Morning   one      Evening   \n",
       "3   4   Vistara   UK-706     Kolkata        Morning   one      Evening   \n",
       "4   5    Indigo  6E-5394     Chennai  Early_Morning  zero      Morning   \n",
       "\n",
       "  destination_city     class  duration  days_left  price  \n",
       "0           Mumbai   Economy     14.25         21   7212  \n",
       "1          Kolkata   Economy      1.75          7   5292  \n",
       "2            Delhi  Business      9.58          5  60553  \n",
       "3        Hyderabad   Economy      6.75         28   5760  \n",
       "4           Mumbai   Economy      2.00          4  10712  "
      ]
     },
     "execution_count": 2,
     "metadata": {},
     "output_type": "execute_result"
    }
   ],
   "source": [
    "df = pd.read_csv('../input/mohirdev/train_data.csv')\n",
    "df.head()"
   ]
  },
  {
   "cell_type": "markdown",
   "id": "9ff072fd",
   "metadata": {
    "papermill": {
     "duration": 0.011102,
     "end_time": "2022-11-10T16:59:08.916645",
     "exception": false,
     "start_time": "2022-11-10T16:59:08.905543",
     "status": "completed"
    },
    "tags": []
   },
   "source": [
    "# Exploring data"
   ]
  },
  {
   "cell_type": "code",
   "execution_count": 3,
   "id": "a1cb3bd6",
   "metadata": {
    "execution": {
     "iopub.execute_input": "2022-11-10T16:59:08.941544Z",
     "iopub.status.busy": "2022-11-10T16:59:08.940781Z",
     "iopub.status.idle": "2022-11-10T16:59:08.974118Z",
     "shell.execute_reply": "2022-11-10T16:59:08.972728Z"
    },
    "papermill": {
     "duration": 0.049744,
     "end_time": "2022-11-10T16:59:08.977717",
     "exception": false,
     "start_time": "2022-11-10T16:59:08.927973",
     "status": "completed"
    },
    "tags": []
   },
   "outputs": [
    {
     "name": "stdout",
     "output_type": "stream",
     "text": [
      "<class 'pandas.core.frame.DataFrame'>\n",
      "RangeIndex: 20000 entries, 0 to 19999\n",
      "Data columns (total 12 columns):\n",
      " #   Column            Non-Null Count  Dtype  \n",
      "---  ------            --------------  -----  \n",
      " 0   id                20000 non-null  int64  \n",
      " 1   airline           20000 non-null  object \n",
      " 2   flight            20000 non-null  object \n",
      " 3   source_city       20000 non-null  object \n",
      " 4   departure_time    20000 non-null  object \n",
      " 5   stops             20000 non-null  object \n",
      " 6   arrival_time      20000 non-null  object \n",
      " 7   destination_city  20000 non-null  object \n",
      " 8   class             20000 non-null  object \n",
      " 9   duration          20000 non-null  float64\n",
      " 10  days_left         20000 non-null  int64  \n",
      " 11  price             20000 non-null  int64  \n",
      "dtypes: float64(1), int64(3), object(8)\n",
      "memory usage: 1.8+ MB\n"
     ]
    }
   ],
   "source": [
    "df.info()"
   ]
  },
  {
   "cell_type": "markdown",
   "id": "0564fae3",
   "metadata": {
    "papermill": {
     "duration": 0.011241,
     "end_time": "2022-11-10T16:59:09.001203",
     "exception": false,
     "start_time": "2022-11-10T16:59:08.989962",
     "status": "completed"
    },
    "tags": []
   },
   "source": [
    "> Apparently, there is no missing values."
   ]
  },
  {
   "cell_type": "markdown",
   "id": "b8eb569b",
   "metadata": {
    "papermill": {
     "duration": 0.010953,
     "end_time": "2022-11-10T16:59:09.024659",
     "exception": false,
     "start_time": "2022-11-10T16:59:09.013706",
     "status": "completed"
    },
    "tags": []
   },
   "source": [
    "# Checking for duplicates"
   ]
  },
  {
   "cell_type": "code",
   "execution_count": 4,
   "id": "22308c27",
   "metadata": {
    "execution": {
     "iopub.execute_input": "2022-11-10T16:59:09.049696Z",
     "iopub.status.busy": "2022-11-10T16:59:09.048605Z",
     "iopub.status.idle": "2022-11-10T16:59:09.078819Z",
     "shell.execute_reply": "2022-11-10T16:59:09.077261Z"
    },
    "papermill": {
     "duration": 0.045736,
     "end_time": "2022-11-10T16:59:09.081798",
     "exception": false,
     "start_time": "2022-11-10T16:59:09.036062",
     "status": "completed"
    },
    "tags": []
   },
   "outputs": [
    {
     "data": {
      "text/plain": [
       "0"
      ]
     },
     "execution_count": 4,
     "metadata": {},
     "output_type": "execute_result"
    }
   ],
   "source": [
    "df.duplicated().sum()"
   ]
  },
  {
   "cell_type": "markdown",
   "id": "8d99b713",
   "metadata": {
    "papermill": {
     "duration": 0.010789,
     "end_time": "2022-11-10T16:59:09.103987",
     "exception": false,
     "start_time": "2022-11-10T16:59:09.093198",
     "status": "completed"
    },
    "tags": []
   },
   "source": [
    "> There is no exact duplicates."
   ]
  },
  {
   "cell_type": "code",
   "execution_count": 5,
   "id": "56590bcb",
   "metadata": {
    "execution": {
     "iopub.execute_input": "2022-11-10T16:59:09.128517Z",
     "iopub.status.busy": "2022-11-10T16:59:09.128029Z",
     "iopub.status.idle": "2022-11-10T16:59:09.153993Z",
     "shell.execute_reply": "2022-11-10T16:59:09.152576Z"
    },
    "papermill": {
     "duration": 0.041789,
     "end_time": "2022-11-10T16:59:09.156934",
     "exception": false,
     "start_time": "2022-11-10T16:59:09.115145",
     "status": "completed"
    },
    "tags": []
   },
   "outputs": [
    {
     "data": {
      "text/plain": [
       "10"
      ]
     },
     "execution_count": 5,
     "metadata": {},
     "output_type": "execute_result"
    }
   ],
   "source": [
    "# Checking for duplicates with same parametres but different ticket price\n",
    "subset = [\n",
    "    'airline', \n",
    "    'flight', \n",
    "    'source_city', \n",
    "    'departure_time', \n",
    "    'stops', \n",
    "    'arrival_time', \n",
    "    'destination_city', \n",
    "    'class', \n",
    "    'duration', \n",
    "    'days_left'\n",
    "]\n",
    "\n",
    "df.duplicated(subset=subset).sum()"
   ]
  },
  {
   "cell_type": "code",
   "execution_count": 6,
   "id": "34217dfd",
   "metadata": {
    "execution": {
     "iopub.execute_input": "2022-11-10T16:59:09.182035Z",
     "iopub.status.busy": "2022-11-10T16:59:09.181574Z",
     "iopub.status.idle": "2022-11-10T16:59:09.209767Z",
     "shell.execute_reply": "2022-11-10T16:59:09.208449Z"
    },
    "papermill": {
     "duration": 0.044572,
     "end_time": "2022-11-10T16:59:09.212882",
     "exception": false,
     "start_time": "2022-11-10T16:59:09.168310",
     "status": "completed"
    },
    "tags": []
   },
   "outputs": [],
   "source": [
    "# Getting rid of incorrect rows\n",
    "df.drop_duplicates(subset=subset, inplace=True)"
   ]
  },
  {
   "cell_type": "markdown",
   "id": "93b666b5",
   "metadata": {
    "papermill": {
     "duration": 0.010887,
     "end_time": "2022-11-10T16:59:09.235656",
     "exception": false,
     "start_time": "2022-11-10T16:59:09.224769",
     "status": "completed"
    },
    "tags": []
   },
   "source": [
    "Checking for incorrect records that have the same source and destination city"
   ]
  },
  {
   "cell_type": "code",
   "execution_count": 7,
   "id": "bddad31f",
   "metadata": {
    "execution": {
     "iopub.execute_input": "2022-11-10T16:59:09.260726Z",
     "iopub.status.busy": "2022-11-10T16:59:09.260291Z",
     "iopub.status.idle": "2022-11-10T16:59:09.272255Z",
     "shell.execute_reply": "2022-11-10T16:59:09.270653Z"
    },
    "papermill": {
     "duration": 0.027775,
     "end_time": "2022-11-10T16:59:09.274614",
     "exception": false,
     "start_time": "2022-11-10T16:59:09.246839",
     "status": "completed"
    },
    "tags": []
   },
   "outputs": [
    {
     "data": {
      "text/plain": [
       "0"
      ]
     },
     "execution_count": 7,
     "metadata": {},
     "output_type": "execute_result"
    }
   ],
   "source": [
    "(df['source_city'] == df['destination_city']).sum()"
   ]
  },
  {
   "cell_type": "markdown",
   "id": "ed1b964a",
   "metadata": {
    "papermill": {
     "duration": 0.01099,
     "end_time": "2022-11-10T16:59:09.297036",
     "exception": false,
     "start_time": "2022-11-10T16:59:09.286046",
     "status": "completed"
    },
    "tags": []
   },
   "source": [
    "> There is no this kind of records."
   ]
  },
  {
   "cell_type": "markdown",
   "id": "7de133a6",
   "metadata": {
    "papermill": {
     "duration": 0.01124,
     "end_time": "2022-11-10T16:59:09.319581",
     "exception": false,
     "start_time": "2022-11-10T16:59:09.308341",
     "status": "completed"
    },
    "tags": []
   },
   "source": [
    "# Visualizing categorical columns"
   ]
  },
  {
   "cell_type": "code",
   "execution_count": 8,
   "id": "bd5d1832",
   "metadata": {
    "execution": {
     "iopub.execute_input": "2022-11-10T16:59:09.344550Z",
     "iopub.status.busy": "2022-11-10T16:59:09.344053Z",
     "iopub.status.idle": "2022-11-10T16:59:24.666953Z",
     "shell.execute_reply": "2022-11-10T16:59:24.665456Z"
    },
    "papermill": {
     "duration": 15.339104,
     "end_time": "2022-11-10T16:59:24.670210",
     "exception": false,
     "start_time": "2022-11-10T16:59:09.331106",
     "status": "completed"
    },
    "tags": []
   },
   "outputs": [
    {
     "data": {
      "image/png": "[encoded data removed]",
      "text/plain": [
       "<Figure size 1440x1440 with 8 Axes>"
      ]
     },
     "metadata": {
      "needs_background": "light"
     },
     "output_type": "display_data"
    }
   ],
   "source": [
    "plt.figure(figsize=(20,20))\n",
    "\n",
    "plt.subplot(4,2,1)\n",
    "sns.countplot(x=df['stops'])\n",
    "\n",
    "plt.subplot(4,2,2)\n",
    "sns.countplot(x=df['departure_time'])\n",
    "\n",
    "plt.subplot(4,2,3)\n",
    "sns.countplot(x=df['arrival_time'])\n",
    "\n",
    "plt.subplot(4,2,4)\n",
    "sns.countplot(x=df['class'])\n",
    "\n",
    "plt.subplot(4,2,5)\n",
    "sns.countplot(x=df['airline'])\n",
    "\n",
    "plt.subplot(4,2,6)\n",
    "sns.countplot(x=df['source_city'])\n",
    "\n",
    "plt.subplot(4,2,7)\n",
    "sns.countplot(x=df['destination_city'])\n",
    "\n",
    "plt.subplot(4,2,8)\n",
    "sns.countplot(x=df['flight'])\n",
    "plt.show()"
   ]
  },
  {
   "cell_type": "markdown",
   "id": "9b05792b",
   "metadata": {
    "papermill": {
     "duration": 0.011906,
     "end_time": "2022-11-10T16:59:24.694414",
     "exception": false,
     "start_time": "2022-11-10T16:59:24.682508",
     "status": "completed"
    },
    "tags": []
   },
   "source": [
    "> It can be concluded from the chart that some of the columns are categorical ordinal (e.g. Early Morning, Moring, ..., Late Night), so I am going to encode them manually. The other columns are categorical nominal (airline and city names), so I decided to encode them randomly."
   ]
  },
  {
   "cell_type": "markdown",
   "id": "e0209354",
   "metadata": {
    "papermill": {
     "duration": 0.012592,
     "end_time": "2022-11-10T16:59:24.719332",
     "exception": false,
     "start_time": "2022-11-10T16:59:24.706740",
     "status": "completed"
    },
    "tags": []
   },
   "source": [
    "Checking numerical columns for outliers"
   ]
  },
  {
   "cell_type": "code",
   "execution_count": 9,
   "id": "fb084c40",
   "metadata": {
    "execution": {
     "iopub.execute_input": "2022-11-10T16:59:24.745847Z",
     "iopub.status.busy": "2022-11-10T16:59:24.745462Z",
     "iopub.status.idle": "2022-11-10T16:59:25.754207Z",
     "shell.execute_reply": "2022-11-10T16:59:25.753138Z"
    },
    "papermill": {
     "duration": 1.024947,
     "end_time": "2022-11-10T16:59:25.756765",
     "exception": false,
     "start_time": "2022-11-10T16:59:24.731818",
     "status": "completed"
    },
    "tags": []
   },
   "outputs": [
    {
     "data": {
      "image/png": "[encoded data removed]",
      "text/plain": [
       "<Figure size 1440x288 with 3 Axes>"
      ]
     },
     "metadata": {
      "needs_background": "light"
     },
     "output_type": "display_data"
    }
   ],
   "source": [
    "plt.figure(figsize=(20, 4))\n",
    "\n",
    "plt.subplot(1,3,1)\n",
    "sns.histplot(df['duration'])\n",
    "\n",
    "plt.subplot(1,3,2)\n",
    "sns.histplot(df['days_left'])\n",
    "\n",
    "plt.subplot(1,3,3)\n",
    "sns.histplot(df['price'])\n",
    "plt.show()"
   ]
  },
  {
   "cell_type": "code",
   "execution_count": 10,
   "id": "a0efc473",
   "metadata": {
    "execution": {
     "iopub.execute_input": "2022-11-10T16:59:25.785018Z",
     "iopub.status.busy": "2022-11-10T16:59:25.784562Z",
     "iopub.status.idle": "2022-11-10T16:59:25.812816Z",
     "shell.execute_reply": "2022-11-10T16:59:25.811337Z"
    },
    "papermill": {
     "duration": 0.046195,
     "end_time": "2022-11-10T16:59:25.815763",
     "exception": false,
     "start_time": "2022-11-10T16:59:25.769568",
     "status": "completed"
    },
    "tags": []
   },
   "outputs": [
    {
     "data": {
      "text/html": [
       "<div>\n",
       "<style scoped>\n",
       "    .dataframe tbody tr th:only-of-type {\n",
       "        vertical-align: middle;\n",
       "    }\n",
       "\n",
       "    .dataframe tbody tr th {\n",
       "        vertical-align: top;\n",
       "    }\n",
       "\n",
       "    .dataframe thead th {\n",
       "        text-align: right;\n",
       "    }\n",
       "</style>\n",
       "<table border=\"1\" class=\"dataframe\">\n",
       "  <thead>\n",
       "    <tr style=\"text-align: right;\">\n",
       "      <th></th>\n",
       "      <th>id</th>\n",
       "      <th>airline</th>\n",
       "      <th>flight</th>\n",
       "      <th>source_city</th>\n",
       "      <th>departure_time</th>\n",
       "      <th>stops</th>\n",
       "      <th>arrival_time</th>\n",
       "      <th>destination_city</th>\n",
       "      <th>class</th>\n",
       "      <th>duration</th>\n",
       "      <th>days_left</th>\n",
       "      <th>price</th>\n",
       "    </tr>\n",
       "  </thead>\n",
       "  <tbody>\n",
       "    <tr>\n",
       "      <th>236</th>\n",
       "      <td>237</td>\n",
       "      <td>Vistara</td>\n",
       "      <td>UK-996</td>\n",
       "      <td>Mumbai</td>\n",
       "      <td>Evening</td>\n",
       "      <td>one</td>\n",
       "      <td>Morning</td>\n",
       "      <td>Bangalore</td>\n",
       "      <td>Business</td>\n",
       "      <td>16.33</td>\n",
       "      <td>41</td>\n",
       "      <td>85744</td>\n",
       "    </tr>\n",
       "    <tr>\n",
       "      <th>586</th>\n",
       "      <td>587</td>\n",
       "      <td>Vistara</td>\n",
       "      <td>UK-836</td>\n",
       "      <td>Chennai</td>\n",
       "      <td>Morning</td>\n",
       "      <td>one</td>\n",
       "      <td>Night</td>\n",
       "      <td>Mumbai</td>\n",
       "      <td>Business</td>\n",
       "      <td>9.50</td>\n",
       "      <td>9</td>\n",
       "      <td>80566</td>\n",
       "    </tr>\n",
       "    <tr>\n",
       "      <th>658</th>\n",
       "      <td>659</td>\n",
       "      <td>Vistara</td>\n",
       "      <td>UK-996</td>\n",
       "      <td>Mumbai</td>\n",
       "      <td>Evening</td>\n",
       "      <td>one</td>\n",
       "      <td>Evening</td>\n",
       "      <td>Bangalore</td>\n",
       "      <td>Business</td>\n",
       "      <td>22.50</td>\n",
       "      <td>2</td>\n",
       "      <td>114523</td>\n",
       "    </tr>\n",
       "    <tr>\n",
       "      <th>1064</th>\n",
       "      <td>1065</td>\n",
       "      <td>Vistara</td>\n",
       "      <td>UK-810</td>\n",
       "      <td>Bangalore</td>\n",
       "      <td>Early_Morning</td>\n",
       "      <td>one</td>\n",
       "      <td>Afternoon</td>\n",
       "      <td>Mumbai</td>\n",
       "      <td>Business</td>\n",
       "      <td>7.00</td>\n",
       "      <td>10</td>\n",
       "      <td>81788</td>\n",
       "    </tr>\n",
       "    <tr>\n",
       "      <th>1165</th>\n",
       "      <td>1166</td>\n",
       "      <td>Vistara</td>\n",
       "      <td>UK-772</td>\n",
       "      <td>Kolkata</td>\n",
       "      <td>Morning</td>\n",
       "      <td>one</td>\n",
       "      <td>Evening</td>\n",
       "      <td>Delhi</td>\n",
       "      <td>Business</td>\n",
       "      <td>9.33</td>\n",
       "      <td>5</td>\n",
       "      <td>83647</td>\n",
       "    </tr>\n",
       "    <tr>\n",
       "      <th>...</th>\n",
       "      <td>...</td>\n",
       "      <td>...</td>\n",
       "      <td>...</td>\n",
       "      <td>...</td>\n",
       "      <td>...</td>\n",
       "      <td>...</td>\n",
       "      <td>...</td>\n",
       "      <td>...</td>\n",
       "      <td>...</td>\n",
       "      <td>...</td>\n",
       "      <td>...</td>\n",
       "      <td>...</td>\n",
       "    </tr>\n",
       "    <tr>\n",
       "      <th>19197</th>\n",
       "      <td>19198</td>\n",
       "      <td>Vistara</td>\n",
       "      <td>UK-834</td>\n",
       "      <td>Chennai</td>\n",
       "      <td>Evening</td>\n",
       "      <td>one</td>\n",
       "      <td>Morning</td>\n",
       "      <td>Hyderabad</td>\n",
       "      <td>Business</td>\n",
       "      <td>16.50</td>\n",
       "      <td>3</td>\n",
       "      <td>84497</td>\n",
       "    </tr>\n",
       "    <tr>\n",
       "      <th>19364</th>\n",
       "      <td>19365</td>\n",
       "      <td>Vistara</td>\n",
       "      <td>UK-985</td>\n",
       "      <td>Delhi</td>\n",
       "      <td>Evening</td>\n",
       "      <td>one</td>\n",
       "      <td>Evening</td>\n",
       "      <td>Kolkata</td>\n",
       "      <td>Business</td>\n",
       "      <td>21.08</td>\n",
       "      <td>1</td>\n",
       "      <td>90057</td>\n",
       "    </tr>\n",
       "    <tr>\n",
       "      <th>19491</th>\n",
       "      <td>19492</td>\n",
       "      <td>Vistara</td>\n",
       "      <td>UK-880</td>\n",
       "      <td>Hyderabad</td>\n",
       "      <td>Afternoon</td>\n",
       "      <td>one</td>\n",
       "      <td>Night</td>\n",
       "      <td>Chennai</td>\n",
       "      <td>Business</td>\n",
       "      <td>9.67</td>\n",
       "      <td>44</td>\n",
       "      <td>84075</td>\n",
       "    </tr>\n",
       "    <tr>\n",
       "      <th>19501</th>\n",
       "      <td>19502</td>\n",
       "      <td>Vistara</td>\n",
       "      <td>UK-944</td>\n",
       "      <td>Mumbai</td>\n",
       "      <td>Afternoon</td>\n",
       "      <td>one</td>\n",
       "      <td>Night</td>\n",
       "      <td>Bangalore</td>\n",
       "      <td>Business</td>\n",
       "      <td>8.67</td>\n",
       "      <td>17</td>\n",
       "      <td>92772</td>\n",
       "    </tr>\n",
       "    <tr>\n",
       "      <th>19619</th>\n",
       "      <td>19620</td>\n",
       "      <td>Vistara</td>\n",
       "      <td>UK-880</td>\n",
       "      <td>Hyderabad</td>\n",
       "      <td>Afternoon</td>\n",
       "      <td>one</td>\n",
       "      <td>Night</td>\n",
       "      <td>Chennai</td>\n",
       "      <td>Business</td>\n",
       "      <td>9.67</td>\n",
       "      <td>45</td>\n",
       "      <td>84075</td>\n",
       "    </tr>\n",
       "  </tbody>\n",
       "</table>\n",
       "<p>136 rows × 12 columns</p>\n",
       "</div>"
      ],
      "text/plain": [
       "          id  airline  flight source_city departure_time stops arrival_time  \\\n",
       "236      237  Vistara  UK-996      Mumbai        Evening   one      Morning   \n",
       "586      587  Vistara  UK-836     Chennai        Morning   one        Night   \n",
       "658      659  Vistara  UK-996      Mumbai        Evening   one      Evening   \n",
       "1064    1065  Vistara  UK-810   Bangalore  Early_Morning   one    Afternoon   \n",
       "1165    1166  Vistara  UK-772     Kolkata        Morning   one      Evening   \n",
       "...      ...      ...     ...         ...            ...   ...          ...   \n",
       "19197  19198  Vistara  UK-834     Chennai        Evening   one      Morning   \n",
       "19364  19365  Vistara  UK-985       Delhi        Evening   one      Evening   \n",
       "19491  19492  Vistara  UK-880   Hyderabad      Afternoon   one        Night   \n",
       "19501  19502  Vistara  UK-944      Mumbai      Afternoon   one        Night   \n",
       "19619  19620  Vistara  UK-880   Hyderabad      Afternoon   one        Night   \n",
       "\n",
       "      destination_city     class  duration  days_left   price  \n",
       "236          Bangalore  Business     16.33         41   85744  \n",
       "586             Mumbai  Business      9.50          9   80566  \n",
       "658          Bangalore  Business     22.50          2  114523  \n",
       "1064            Mumbai  Business      7.00         10   81788  \n",
       "1165             Delhi  Business      9.33          5   83647  \n",
       "...                ...       ...       ...        ...     ...  \n",
       "19197        Hyderabad  Business     16.50          3   84497  \n",
       "19364          Kolkata  Business     21.08          1   90057  \n",
       "19491          Chennai  Business      9.67         44   84075  \n",
       "19501        Bangalore  Business      8.67         17   92772  \n",
       "19619          Chennai  Business      9.67         45   84075  \n",
       "\n",
       "[136 rows x 12 columns]"
      ]
     },
     "execution_count": 10,
     "metadata": {},
     "output_type": "execute_result"
    }
   ],
   "source": [
    "df[df['price'] > 80000]"
   ]
  },
  {
   "cell_type": "code",
   "execution_count": 11,
   "id": "1898bfac",
   "metadata": {
    "execution": {
     "iopub.execute_input": "2022-11-10T16:59:25.846526Z",
     "iopub.status.busy": "2022-11-10T16:59:25.845037Z",
     "iopub.status.idle": "2022-11-10T16:59:25.854888Z",
     "shell.execute_reply": "2022-11-10T16:59:25.853649Z"
    },
    "papermill": {
     "duration": 0.027845,
     "end_time": "2022-11-10T16:59:25.857652",
     "exception": false,
     "start_time": "2022-11-10T16:59:25.829807",
     "status": "completed"
    },
    "tags": []
   },
   "outputs": [
    {
     "data": {
      "text/plain": [
       "Business    136\n",
       "Name: class, dtype: int64"
      ]
     },
     "execution_count": 11,
     "metadata": {},
     "output_type": "execute_result"
    }
   ],
   "source": [
    "df[df['price'] > 80000]['class'].value_counts()"
   ]
  },
  {
   "cell_type": "markdown",
   "id": "d5e581a1",
   "metadata": {
    "papermill": {
     "duration": 0.013232,
     "end_time": "2022-11-10T16:59:25.884769",
     "exception": false,
     "start_time": "2022-11-10T16:59:25.871537",
     "status": "completed"
    },
    "tags": []
   },
   "source": [
    "> There is no outliers."
   ]
  },
  {
   "cell_type": "markdown",
   "id": "7f33112f",
   "metadata": {
    "papermill": {
     "duration": 0.013546,
     "end_time": "2022-11-10T16:59:25.912028",
     "exception": false,
     "start_time": "2022-11-10T16:59:25.898482",
     "status": "completed"
    },
    "tags": []
   },
   "source": [
    "# Preparing to machine learning"
   ]
  },
  {
   "cell_type": "code",
   "execution_count": 12,
   "id": "4e667634",
   "metadata": {
    "execution": {
     "iopub.execute_input": "2022-11-10T16:59:25.942533Z",
     "iopub.status.busy": "2022-11-10T16:59:25.941052Z",
     "iopub.status.idle": "2022-11-10T16:59:25.959969Z",
     "shell.execute_reply": "2022-11-10T16:59:25.958921Z"
    },
    "papermill": {
     "duration": 0.036976,
     "end_time": "2022-11-10T16:59:25.962903",
     "exception": false,
     "start_time": "2022-11-10T16:59:25.925927",
     "status": "completed"
    },
    "tags": []
   },
   "outputs": [],
   "source": [
    "train_set, test_set = train_test_split(df, test_size=0.2, random_state=42)\n",
    "\n",
    "X_train = train_set.drop(columns=[\"price\"])\n",
    "y = train_set[\"price\"].copy()"
   ]
  },
  {
   "cell_type": "code",
   "execution_count": 13,
   "id": "0f5839a6",
   "metadata": {
    "execution": {
     "iopub.execute_input": "2022-11-10T16:59:25.993864Z",
     "iopub.status.busy": "2022-11-10T16:59:25.992651Z",
     "iopub.status.idle": "2022-11-10T16:59:25.999728Z",
     "shell.execute_reply": "2022-11-10T16:59:25.998580Z"
    },
    "papermill": {
     "duration": 0.026364,
     "end_time": "2022-11-10T16:59:26.003042",
     "exception": false,
     "start_time": "2022-11-10T16:59:25.976678",
     "status": "completed"
    },
    "tags": []
   },
   "outputs": [],
   "source": [
    "# Defining custom encoder\n",
    "class CustomEncoder(BaseEstimator, TransformerMixin):\n",
    "    def __init__(self, col_name, mapper):\n",
    "        self.col_name = col_name\n",
    "        self.mapper = mapper\n",
    "    def fit(self, X, y=None):\n",
    "        return self\n",
    "    def transform(self, X):\n",
    "        X[self.col_name] = X[self.col_name].map(self.mapper)\n",
    "        return X"
   ]
  },
  {
   "cell_type": "code",
   "execution_count": 14,
   "id": "bad93b11",
   "metadata": {
    "execution": {
     "iopub.execute_input": "2022-11-10T16:59:26.032742Z",
     "iopub.status.busy": "2022-11-10T16:59:26.032275Z",
     "iopub.status.idle": "2022-11-10T16:59:26.074137Z",
     "shell.execute_reply": "2022-11-10T16:59:26.072996Z"
    },
    "papermill": {
     "duration": 0.060189,
     "end_time": "2022-11-10T16:59:26.077214",
     "exception": false,
     "start_time": "2022-11-10T16:59:26.017025",
     "status": "completed"
    },
    "tags": []
   },
   "outputs": [],
   "source": [
    "# Encoding\n",
    "\n",
    "stops_mapper = {'zero': 0, 'one': 1, 'two_or_more': 2}\n",
    "times_mapper = {'Early_Morning': 5, 'Morning': 4, 'Afternoon': 3, 'Evening': 2, 'Night': 1, 'Late_Night': 0}\n",
    "class_mapper = {'Economy': 0, 'Business': 1}\n",
    "\n",
    "custom_enc_pipeline = Pipeline([\n",
    "  ('stops_enc', CustomEncoder('stops', stops_mapper)),\n",
    "  ('departure_time_enc', CustomEncoder('departure_time', times_mapper)),\n",
    "  ('arrival_time_enc', CustomEncoder('arrival_time', times_mapper)),\n",
    "  ('class_enc', CustomEncoder('class', class_mapper)),\n",
    "])\n",
    "\n",
    "\n",
    "custom_enc_columns = ['stops', 'departure_time', 'arrival_time', 'class', 'duration', 'days_left']\n",
    "builtin_enc_columns = ['airline', 'source_city', 'destination_city']\n",
    "\n",
    "full_pipeline = ColumnTransformer([\n",
    "    ('one', custom_enc_pipeline, custom_enc_columns),\n",
    "    ('two', OrdinalEncoder(), builtin_enc_columns),\n",
    "])\n",
    "\n",
    "X_encoded = full_pipeline.fit_transform(X_train)"
   ]
  },
  {
   "cell_type": "code",
   "execution_count": 15,
   "id": "2ba34a83",
   "metadata": {
    "execution": {
     "iopub.execute_input": "2022-11-10T16:59:26.105946Z",
     "iopub.status.busy": "2022-11-10T16:59:26.105559Z",
     "iopub.status.idle": "2022-11-10T16:59:26.114756Z",
     "shell.execute_reply": "2022-11-10T16:59:26.113308Z"
    },
    "papermill": {
     "duration": 0.026779,
     "end_time": "2022-11-10T16:59:26.117311",
     "exception": false,
     "start_time": "2022-11-10T16:59:26.090532",
     "status": "completed"
    },
    "tags": []
   },
   "outputs": [],
   "source": [
    "# Scaling\n",
    "\n",
    "X_scaled = MinMaxScaler().fit_transform(X_encoded)"
   ]
  },
  {
   "cell_type": "markdown",
   "id": "d0caaab6",
   "metadata": {
    "papermill": {
     "duration": 0.012804,
     "end_time": "2022-11-10T16:59:26.143014",
     "exception": false,
     "start_time": "2022-11-10T16:59:26.130210",
     "status": "completed"
    },
    "tags": []
   },
   "source": [
    "Preparing test set"
   ]
  },
  {
   "cell_type": "code",
   "execution_count": 16,
   "id": "97cf5a15",
   "metadata": {
    "execution": {
     "iopub.execute_input": "2022-11-10T16:59:26.171839Z",
     "iopub.status.busy": "2022-11-10T16:59:26.170713Z",
     "iopub.status.idle": "2022-11-10T16:59:26.199884Z",
     "shell.execute_reply": "2022-11-10T16:59:26.198280Z"
    },
    "papermill": {
     "duration": 0.047093,
     "end_time": "2022-11-10T16:59:26.203125",
     "exception": false,
     "start_time": "2022-11-10T16:59:26.156032",
     "status": "completed"
    },
    "tags": []
   },
   "outputs": [],
   "source": [
    "X_test = test_set.drop(columns=[\"price\"])\n",
    "y_test = test_set[\"price\"].copy()\n",
    "\n",
    "X_test_encoded = full_pipeline.fit_transform(X_test)\n",
    "X_test_scaled = MinMaxScaler().fit_transform(X_test_encoded)"
   ]
  },
  {
   "cell_type": "markdown",
   "id": "b532454a",
   "metadata": {
    "papermill": {
     "duration": 0.013794,
     "end_time": "2022-11-10T16:59:26.230836",
     "exception": false,
     "start_time": "2022-11-10T16:59:26.217042",
     "status": "completed"
    },
    "tags": []
   },
   "source": [
    "# Training"
   ]
  },
  {
   "cell_type": "markdown",
   "id": "d1217ca6",
   "metadata": {
    "papermill": {
     "duration": 0.013563,
     "end_time": "2022-11-10T16:59:26.258453",
     "exception": false,
     "start_time": "2022-11-10T16:59:26.244890",
     "status": "completed"
    },
    "tags": []
   },
   "source": [
    "Linear Regression"
   ]
  },
  {
   "cell_type": "code",
   "execution_count": 17,
   "id": "5ae924e5",
   "metadata": {
    "execution": {
     "iopub.execute_input": "2022-11-10T16:59:26.287812Z",
     "iopub.status.busy": "2022-11-10T16:59:26.287412Z",
     "iopub.status.idle": "2022-11-10T16:59:26.322824Z",
     "shell.execute_reply": "2022-11-10T16:59:26.320602Z"
    },
    "papermill": {
     "duration": 0.056166,
     "end_time": "2022-11-10T16:59:26.328212",
     "exception": false,
     "start_time": "2022-11-10T16:59:26.272046",
     "status": "completed"
    },
    "tags": []
   },
   "outputs": [],
   "source": [
    "LR_model = LinearRegression()\n",
    "LR_model.fit(X_scaled, y)\n",
    "y_predicted = LR_model.predict(X_test_scaled)"
   ]
  },
  {
   "cell_type": "code",
   "execution_count": 18,
   "id": "c94a781f",
   "metadata": {
    "execution": {
     "iopub.execute_input": "2022-11-10T16:59:26.445970Z",
     "iopub.status.busy": "2022-11-10T16:59:26.445482Z",
     "iopub.status.idle": "2022-11-10T16:59:26.455189Z",
     "shell.execute_reply": "2022-11-10T16:59:26.453885Z"
    },
    "papermill": {
     "duration": 0.061843,
     "end_time": "2022-11-10T16:59:26.457633",
     "exception": false,
     "start_time": "2022-11-10T16:59:26.395790",
     "status": "completed"
    },
    "tags": []
   },
   "outputs": [
    {
     "data": {
      "text/plain": [
       "6733.216845793656"
      ]
     },
     "execution_count": 18,
     "metadata": {},
     "output_type": "execute_result"
    }
   ],
   "source": [
    "# Evaluating the model\n",
    "lin_mse = mean_squared_error(y_test, y_predicted)\n",
    "lin_rmse = np.sqrt(lin_mse)\n",
    "lin_rmse"
   ]
  },
  {
   "cell_type": "markdown",
   "id": "dfa6d707",
   "metadata": {
    "papermill": {
     "duration": 0.013253,
     "end_time": "2022-11-10T16:59:26.484335",
     "exception": false,
     "start_time": "2022-11-10T16:59:26.471082",
     "status": "completed"
    },
    "tags": []
   },
   "source": [
    "Decision Tree"
   ]
  },
  {
   "cell_type": "code",
   "execution_count": 19,
   "id": "d71e3194",
   "metadata": {
    "execution": {
     "iopub.execute_input": "2022-11-10T16:59:26.513225Z",
     "iopub.status.busy": "2022-11-10T16:59:26.512523Z",
     "iopub.status.idle": "2022-11-10T16:59:26.582583Z",
     "shell.execute_reply": "2022-11-10T16:59:26.581394Z"
    },
    "papermill": {
     "duration": 0.088203,
     "end_time": "2022-11-10T16:59:26.585899",
     "exception": false,
     "start_time": "2022-11-10T16:59:26.497696",
     "status": "completed"
    },
    "tags": []
   },
   "outputs": [],
   "source": [
    "DT_model = DecisionTreeRegressor()\n",
    "DT_model.fit(X_scaled, y)\n",
    "y_predicted = DT_model.predict(X_test_scaled)"
   ]
  },
  {
   "cell_type": "code",
   "execution_count": 20,
   "id": "d8527e0f",
   "metadata": {
    "execution": {
     "iopub.execute_input": "2022-11-10T16:59:26.616350Z",
     "iopub.status.busy": "2022-11-10T16:59:26.615949Z",
     "iopub.status.idle": "2022-11-10T16:59:26.623159Z",
     "shell.execute_reply": "2022-11-10T16:59:26.622424Z"
    },
    "papermill": {
     "duration": 0.02498,
     "end_time": "2022-11-10T16:59:26.625587",
     "exception": false,
     "start_time": "2022-11-10T16:59:26.600607",
     "status": "completed"
    },
    "tags": []
   },
   "outputs": [
    {
     "data": {
      "text/plain": [
       "5346.231488447169"
      ]
     },
     "execution_count": 20,
     "metadata": {},
     "output_type": "execute_result"
    }
   ],
   "source": [
    "# Evaluating the model\n",
    "dt_mse = mean_squared_error(y_test, y_predicted)\n",
    "dt_rmse = np.sqrt(dt_mse)\n",
    "dt_rmse"
   ]
  },
  {
   "cell_type": "markdown",
   "id": "664199b2",
   "metadata": {
    "papermill": {
     "duration": 0.013276,
     "end_time": "2022-11-10T16:59:26.652835",
     "exception": false,
     "start_time": "2022-11-10T16:59:26.639559",
     "status": "completed"
    },
    "tags": []
   },
   "source": [
    "Random Forest"
   ]
  },
  {
   "cell_type": "code",
   "execution_count": 21,
   "id": "e407da07",
   "metadata": {
    "execution": {
     "iopub.execute_input": "2022-11-10T16:59:26.682078Z",
     "iopub.status.busy": "2022-11-10T16:59:26.681544Z",
     "iopub.status.idle": "2022-11-10T16:59:31.067791Z",
     "shell.execute_reply": "2022-11-10T16:59:31.066625Z"
    },
    "papermill": {
     "duration": 4.40446,
     "end_time": "2022-11-10T16:59:31.070911",
     "exception": false,
     "start_time": "2022-11-10T16:59:26.666451",
     "status": "completed"
    },
    "tags": []
   },
   "outputs": [],
   "source": [
    "RF_model = RandomForestRegressor()\n",
    "RF_model.fit(X_scaled, y)\n",
    "y_predicted = RF_model.predict(X_test_scaled)"
   ]
  },
  {
   "cell_type": "code",
   "execution_count": 22,
   "id": "1200f0aa",
   "metadata": {
    "execution": {
     "iopub.execute_input": "2022-11-10T16:59:31.099746Z",
     "iopub.status.busy": "2022-11-10T16:59:31.099309Z",
     "iopub.status.idle": "2022-11-10T16:59:31.108027Z",
     "shell.execute_reply": "2022-11-10T16:59:31.106751Z"
    },
    "papermill": {
     "duration": 0.027658,
     "end_time": "2022-11-10T16:59:31.112248",
     "exception": false,
     "start_time": "2022-11-10T16:59:31.084590",
     "status": "completed"
    },
    "tags": []
   },
   "outputs": [
    {
     "data": {
      "text/plain": [
       "4005.518712727501"
      ]
     },
     "execution_count": 22,
     "metadata": {},
     "output_type": "execute_result"
    }
   ],
   "source": [
    "# Evaluating the model\n",
    "rf_mse = mean_squared_error(y_test, y_predicted)\n",
    "rf_rmse = np.sqrt(rf_mse)\n",
    "rf_rmse"
   ]
  },
  {
   "cell_type": "markdown",
   "id": "92ad927f",
   "metadata": {
    "papermill": {
     "duration": 0.013118,
     "end_time": "2022-11-10T16:59:31.138898",
     "exception": false,
     "start_time": "2022-11-10T16:59:31.125780",
     "status": "completed"
    },
    "tags": []
   },
   "source": [
    "# Evaluating with cross-validation"
   ]
  },
  {
   "cell_type": "code",
   "execution_count": 23,
   "id": "42c500a5",
   "metadata": {
    "execution": {
     "iopub.execute_input": "2022-11-10T16:59:31.167611Z",
     "iopub.status.busy": "2022-11-10T16:59:31.166855Z",
     "iopub.status.idle": "2022-11-10T16:59:31.221595Z",
     "shell.execute_reply": "2022-11-10T16:59:31.220022Z"
    },
    "papermill": {
     "duration": 0.072715,
     "end_time": "2022-11-10T16:59:31.224885",
     "exception": false,
     "start_time": "2022-11-10T16:59:31.152170",
     "status": "completed"
    },
    "tags": []
   },
   "outputs": [],
   "source": [
    "X_cv_scaled = MinMaxScaler().fit_transform(full_pipeline.fit_transform(df.drop(columns=[\"price\"])))"
   ]
  },
  {
   "cell_type": "code",
   "execution_count": 24,
   "id": "092ef626",
   "metadata": {
    "execution": {
     "iopub.execute_input": "2022-11-10T16:59:31.255857Z",
     "iopub.status.busy": "2022-11-10T16:59:31.255204Z",
     "iopub.status.idle": "2022-11-10T16:59:31.424241Z",
     "shell.execute_reply": "2022-11-10T16:59:31.423181Z"
    },
    "papermill": {
     "duration": 0.190166,
     "end_time": "2022-11-10T16:59:31.429357",
     "exception": false,
     "start_time": "2022-11-10T16:59:31.239191",
     "status": "completed"
    },
    "tags": []
   },
   "outputs": [
    {
     "data": {
      "text/plain": [
       "6903.283317355681"
      ]
     },
     "execution_count": 24,
     "metadata": {},
     "output_type": "execute_result"
    }
   ],
   "source": [
    "# Linear Regression\n",
    "scores = cross_val_score(LR_model, X_cv_scaled, df['price'].copy(), scoring=\"neg_mean_squared_error\", cv=10)\n",
    "LR_rmse_scores = np.sqrt(-scores)\n",
    "LR_rmse_scores.mean()"
   ]
  },
  {
   "cell_type": "code",
   "execution_count": 25,
   "id": "98fd32ec",
   "metadata": {
    "execution": {
     "iopub.execute_input": "2022-11-10T16:59:31.506261Z",
     "iopub.status.busy": "2022-11-10T16:59:31.504438Z",
     "iopub.status.idle": "2022-11-10T16:59:32.281254Z",
     "shell.execute_reply": "2022-11-10T16:59:32.279797Z"
    },
    "papermill": {
     "duration": 0.818443,
     "end_time": "2022-11-10T16:59:32.284171",
     "exception": false,
     "start_time": "2022-11-10T16:59:31.465728",
     "status": "completed"
    },
    "tags": []
   },
   "outputs": [
    {
     "data": {
      "text/plain": [
       "5039.967159312206"
      ]
     },
     "execution_count": 25,
     "metadata": {},
     "output_type": "execute_result"
    }
   ],
   "source": [
    "# Decision Tree\n",
    "scores = cross_val_score(DT_model, X_cv_scaled, df['price'].copy(), scoring=\"neg_mean_squared_error\", cv=10)\n",
    "DT_rmse_scores = np.sqrt(-scores)\n",
    "DT_rmse_scores.mean()"
   ]
  },
  {
   "cell_type": "code",
   "execution_count": 26,
   "id": "29ccfb31",
   "metadata": {
    "execution": {
     "iopub.execute_input": "2022-11-10T16:59:32.315363Z",
     "iopub.status.busy": "2022-11-10T16:59:32.314914Z",
     "iopub.status.idle": "2022-11-10T17:00:20.324646Z",
     "shell.execute_reply": "2022-11-10T17:00:20.323255Z"
    },
    "papermill": {
     "duration": 48.042721,
     "end_time": "2022-11-10T17:00:20.341434",
     "exception": false,
     "start_time": "2022-11-10T16:59:32.298713",
     "status": "completed"
    },
    "tags": []
   },
   "outputs": [
    {
     "data": {
      "text/plain": [
       "3819.872604504996"
      ]
     },
     "execution_count": 26,
     "metadata": {},
     "output_type": "execute_result"
    }
   ],
   "source": [
    "# Random Forest\n",
    "scores = cross_val_score(RF_model, X_cv_scaled, df['price'].copy(), scoring=\"neg_mean_squared_error\", cv=10)\n",
    "RF_rmse_scores = np.sqrt(-scores)\n",
    "RF_rmse_scores.mean()"
   ]
  },
  {
   "cell_type": "markdown",
   "id": "dd2131dd",
   "metadata": {
    "papermill": {
     "duration": 0.013385,
     "end_time": "2022-11-10T17:00:20.368812",
     "exception": false,
     "start_time": "2022-11-10T17:00:20.355427",
     "status": "completed"
    },
    "tags": []
   },
   "source": [
    "# Submission"
   ]
  },
  {
   "cell_type": "code",
   "execution_count": 27,
   "id": "0402dea5",
   "metadata": {
    "execution": {
     "iopub.execute_input": "2022-11-10T17:00:20.400409Z",
     "iopub.status.busy": "2022-11-10T17:00:20.398847Z",
     "iopub.status.idle": "2022-11-10T17:00:20.427998Z",
     "shell.execute_reply": "2022-11-10T17:00:20.426916Z"
    },
    "papermill": {
     "duration": 0.047818,
     "end_time": "2022-11-10T17:00:20.430669",
     "exception": false,
     "start_time": "2022-11-10T17:00:20.382851",
     "status": "completed"
    },
    "tags": []
   },
   "outputs": [],
   "source": [
    "submission = pd.read_csv('../input/mohirdev/test_data.csv')"
   ]
  },
  {
   "cell_type": "code",
   "execution_count": 28,
   "id": "e65a055e",
   "metadata": {
    "execution": {
     "iopub.execute_input": "2022-11-10T17:00:20.461338Z",
     "iopub.status.busy": "2022-11-10T17:00:20.460522Z",
     "iopub.status.idle": "2022-11-10T17:00:20.483025Z",
     "shell.execute_reply": "2022-11-10T17:00:20.482077Z"
    },
    "papermill": {
     "duration": 0.041314,
     "end_time": "2022-11-10T17:00:20.485705",
     "exception": false,
     "start_time": "2022-11-10T17:00:20.444391",
     "status": "completed"
    },
    "tags": []
   },
   "outputs": [],
   "source": [
    "# Encoding and scaling\n",
    "submission_scaled = MinMaxScaler().fit_transform(full_pipeline.fit_transform(submission))"
   ]
  },
  {
   "cell_type": "code",
   "execution_count": 29,
   "id": "36967367",
   "metadata": {
    "execution": {
     "iopub.execute_input": "2022-11-10T17:00:20.516222Z",
     "iopub.status.busy": "2022-11-10T17:00:20.515143Z",
     "iopub.status.idle": "2022-11-10T17:00:20.687804Z",
     "shell.execute_reply": "2022-11-10T17:00:20.686944Z"
    },
    "papermill": {
     "duration": 0.190451,
     "end_time": "2022-11-10T17:00:20.690011",
     "exception": false,
     "start_time": "2022-11-10T17:00:20.499560",
     "status": "completed"
    },
    "tags": []
   },
   "outputs": [
    {
     "data": {
      "text/plain": [
       "array([53960.3 , 56491.58, 23173.56, ..., 49452.41, 46636.31, 63414.83])"
      ]
     },
     "execution_count": 29,
     "metadata": {},
     "output_type": "execute_result"
    }
   ],
   "source": [
    "prediction = RF_model.predict(submission_scaled)\n",
    "prediction"
   ]
  },
  {
   "cell_type": "code",
   "execution_count": 30,
   "id": "764f2f42",
   "metadata": {
    "execution": {
     "iopub.execute_input": "2022-11-10T17:00:20.719970Z",
     "iopub.status.busy": "2022-11-10T17:00:20.719522Z",
     "iopub.status.idle": "2022-11-10T17:00:20.726303Z",
     "shell.execute_reply": "2022-11-10T17:00:20.725276Z"
    },
    "papermill": {
     "duration": 0.024944,
     "end_time": "2022-11-10T17:00:20.728663",
     "exception": false,
     "start_time": "2022-11-10T17:00:20.703719",
     "status": "completed"
    },
    "tags": []
   },
   "outputs": [
    {
     "data": {
      "text/plain": [
       "(5000,)"
      ]
     },
     "execution_count": 30,
     "metadata": {},
     "output_type": "execute_result"
    }
   ],
   "source": [
    "prediction.shape"
   ]
  },
  {
   "cell_type": "code",
   "execution_count": 31,
   "id": "3a3df911",
   "metadata": {
    "execution": {
     "iopub.execute_input": "2022-11-10T17:00:20.759560Z",
     "iopub.status.busy": "2022-11-10T17:00:20.758843Z",
     "iopub.status.idle": "2022-11-10T17:00:20.770492Z",
     "shell.execute_reply": "2022-11-10T17:00:20.769313Z"
    },
    "papermill": {
     "duration": 0.030509,
     "end_time": "2022-11-10T17:00:20.773349",
     "exception": false,
     "start_time": "2022-11-10T17:00:20.742840",
     "status": "completed"
    },
    "tags": []
   },
   "outputs": [],
   "source": [
    "submission_file = pd.read_csv(\"../input/mohirdev/sample_solution.csv\")"
   ]
  },
  {
   "cell_type": "code",
   "execution_count": 32,
   "id": "a7d5e564",
   "metadata": {
    "execution": {
     "iopub.execute_input": "2022-11-10T17:00:20.804502Z",
     "iopub.status.busy": "2022-11-10T17:00:20.803975Z",
     "iopub.status.idle": "2022-11-10T17:00:20.823669Z",
     "shell.execute_reply": "2022-11-10T17:00:20.822048Z"
    },
    "papermill": {
     "duration": 0.038614,
     "end_time": "2022-11-10T17:00:20.826634",
     "exception": false,
     "start_time": "2022-11-10T17:00:20.788020",
     "status": "completed"
    },
    "tags": []
   },
   "outputs": [],
   "source": [
    "submission_file['price'] = prediction\n",
    "\n",
    "submission_file.to_csv(\"submission.csv\", index=False)"
   ]
  }
 ],
 "metadata": {
  "kernelspec": {
   "display_name": "Python 3",
   "language": "python",
   "name": "python3"
  },
  "language_info": {
   "codemirror_mode": {
    "name": "ipython",
    "version": 3
   },
   "file_extension": ".py",
   "mimetype": "text/x-python",
   "name": "python",
   "nbconvert_exporter": "python",
   "pygments_lexer": "ipython3",
   "version": "3.7.12"
  },
  "papermill": {
   "default_parameters": {},
   "duration": 84.410749,
   "end_time": "2022-11-10T17:00:21.868013",
   "environment_variables": {},
   "exception": null,
   "input_path": "__notebook__.ipynb",
   "output_path": "__notebook__.ipynb",
   "parameters": {},
   "start_time": "2022-11-10T16:58:57.457264",
   "version": "2.3.4"
  }
 },
 "nbformat": 4,
 "nbformat_minor": 5
}
