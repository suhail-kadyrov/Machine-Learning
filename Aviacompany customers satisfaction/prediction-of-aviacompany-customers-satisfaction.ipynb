{
 "cells": [
  {
   "cell_type": "code",
   "execution_count": 1,
   "id": "7e6d9185",
   "metadata": {
    "_cell_guid": "b1076dfc-b9ad-4769-8c92-a6c4dae69d19",
    "_uuid": "8f2839f25d086af736a60e9eeb907d3b93b6e0e5",
    "execution": {
     "iopub.execute_input": "2022-12-12T10:51:16.185764Z",
     "iopub.status.busy": "2022-12-12T10:51:16.185162Z",
     "iopub.status.idle": "2022-12-12T10:51:17.609967Z",
     "shell.execute_reply": "2022-12-12T10:51:17.608663Z"
    },
    "papermill": {
     "duration": 1.445351,
     "end_time": "2022-12-12T10:51:17.613858",
     "exception": false,
     "start_time": "2022-12-12T10:51:16.168507",
     "status": "completed"
    },
    "tags": []
   },
   "outputs": [
    {
     "name": "stdout",
     "output_type": "stream",
     "text": [
      "/kaggle/input/aviakompaniya/sample_submission.csv\n",
      "/kaggle/input/aviakompaniya/train_dataset.csv\n",
      "/kaggle/input/aviakompaniya/test_dataset.csv\n"
     ]
    }
   ],
   "source": [
    "# This Python 3 environment comes with many helpful analytics libraries installed\n",
    "# It is defined by the kaggle/python Docker image: https://github.com/kaggle/docker-python\n",
    "# For example, here's several helpful packages to load\n",
    "\n",
    "import numpy as np # linear algebra\n",
    "import pandas as pd # data processing, CSV file I/O (e.g. pd.read_csv)\n",
    "import matplotlib.pyplot as plt\n",
    "%matplotlib inline\n",
    "import seaborn as sns\n",
    "from sklearn.preprocessing import LabelEncoder, StandardScaler\n",
    "from sklearn.model_selection import train_test_split, cross_val_predict\n",
    "from sklearn.tree import DecisionTreeClassifier\n",
    "from sklearn.ensemble import RandomForestClassifier, GradientBoostingClassifier\n",
    "from sklearn.neighbors import KNeighborsClassifier\n",
    "from sklearn.metrics import classification_report, precision_score, recall_score, f1_score, accuracy_score, confusion_matrix, jaccard_score\n",
    "from sklearn import svm\n",
    "from sklearn.compose import ColumnTransformer\n",
    "\n",
    "# Input data files are available in the read-only \"../input/\" directory\n",
    "# For example, running this (by clicking run or pressing Shift+Enter) will list all files under the input directory\n",
    "\n",
    "import os\n",
    "for dirname, _, filenames in os.walk('/kaggle/input'):\n",
    "    for filename in filenames:\n",
    "        print(os.path.join(dirname, filename))\n",
    "\n",
    "# You can write up to 20GB to the current directory (/kaggle/working/) that gets preserved as output when you create a version using \"Save & Run All\" \n",
    "# You can also write temporary files to /kaggle/temp/, but they won't be saved outside of the current session"
   ]
  },
  {
   "cell_type": "markdown",
   "id": "16d74903",
   "metadata": {
    "papermill": {
     "duration": 0.014564,
     "end_time": "2022-12-12T10:51:17.643035",
     "exception": false,
     "start_time": "2022-12-12T10:51:17.628471",
     "status": "completed"
    },
    "tags": []
   },
   "source": [
    "Notebook for the competition: https://www.kaggle.com/competitions/aviakompaniya/"
   ]
  },
  {
   "cell_type": "code",
   "execution_count": 2,
   "id": "5e67073f",
   "metadata": {
    "execution": {
     "iopub.execute_input": "2022-12-12T10:51:17.671423Z",
     "iopub.status.busy": "2022-12-12T10:51:17.671052Z",
     "iopub.status.idle": "2022-12-12T10:51:17.754039Z",
     "shell.execute_reply": "2022-12-12T10:51:17.752986Z"
    },
    "papermill": {
     "duration": 0.100756,
     "end_time": "2022-12-12T10:51:17.756784",
     "exception": false,
     "start_time": "2022-12-12T10:51:17.656028",
     "status": "completed"
    },
    "tags": []
   },
   "outputs": [
    {
     "data": {
      "text/html": [
       "<div>\n",
       "<style scoped>\n",
       "    .dataframe tbody tr th:only-of-type {\n",
       "        vertical-align: middle;\n",
       "    }\n",
       "\n",
       "    .dataframe tbody tr th {\n",
       "        vertical-align: top;\n",
       "    }\n",
       "\n",
       "    .dataframe thead th {\n",
       "        text-align: right;\n",
       "    }\n",
       "</style>\n",
       "<table border=\"1\" class=\"dataframe\">\n",
       "  <thead>\n",
       "    <tr style=\"text-align: right;\">\n",
       "      <th></th>\n",
       "      <th>id</th>\n",
       "      <th>Gender</th>\n",
       "      <th>Customer Type</th>\n",
       "      <th>Age</th>\n",
       "      <th>Type of Travel</th>\n",
       "      <th>Class</th>\n",
       "      <th>Flight Distance</th>\n",
       "      <th>Inflight wifi service</th>\n",
       "      <th>Departure/Arrival time convenient</th>\n",
       "      <th>Ease of Online booking</th>\n",
       "      <th>...</th>\n",
       "      <th>Inflight entertainment</th>\n",
       "      <th>On-board service</th>\n",
       "      <th>Leg room service</th>\n",
       "      <th>Baggage handling</th>\n",
       "      <th>Checkin service</th>\n",
       "      <th>Inflight service</th>\n",
       "      <th>Cleanliness</th>\n",
       "      <th>Departure Delay in Minutes</th>\n",
       "      <th>Arrival Delay in Minutes</th>\n",
       "      <th>satisfaction</th>\n",
       "    </tr>\n",
       "  </thead>\n",
       "  <tbody>\n",
       "    <tr>\n",
       "      <th>0</th>\n",
       "      <td>1</td>\n",
       "      <td>Male</td>\n",
       "      <td>disloyal Customer</td>\n",
       "      <td>33</td>\n",
       "      <td>Business travel</td>\n",
       "      <td>Eco</td>\n",
       "      <td>571</td>\n",
       "      <td>2</td>\n",
       "      <td>3</td>\n",
       "      <td>2</td>\n",
       "      <td>...</td>\n",
       "      <td>4</td>\n",
       "      <td>3</td>\n",
       "      <td>1</td>\n",
       "      <td>3</td>\n",
       "      <td>4</td>\n",
       "      <td>3</td>\n",
       "      <td>4</td>\n",
       "      <td>10</td>\n",
       "      <td>3.0</td>\n",
       "      <td>0</td>\n",
       "    </tr>\n",
       "    <tr>\n",
       "      <th>1</th>\n",
       "      <td>2</td>\n",
       "      <td>Female</td>\n",
       "      <td>Loyal Customer</td>\n",
       "      <td>49</td>\n",
       "      <td>Business travel</td>\n",
       "      <td>Business</td>\n",
       "      <td>1431</td>\n",
       "      <td>4</td>\n",
       "      <td>1</td>\n",
       "      <td>4</td>\n",
       "      <td>...</td>\n",
       "      <td>5</td>\n",
       "      <td>5</td>\n",
       "      <td>5</td>\n",
       "      <td>5</td>\n",
       "      <td>3</td>\n",
       "      <td>5</td>\n",
       "      <td>3</td>\n",
       "      <td>0</td>\n",
       "      <td>0.0</td>\n",
       "      <td>1</td>\n",
       "    </tr>\n",
       "    <tr>\n",
       "      <th>2</th>\n",
       "      <td>3</td>\n",
       "      <td>Female</td>\n",
       "      <td>Loyal Customer</td>\n",
       "      <td>43</td>\n",
       "      <td>Business travel</td>\n",
       "      <td>Eco</td>\n",
       "      <td>867</td>\n",
       "      <td>1</td>\n",
       "      <td>4</td>\n",
       "      <td>4</td>\n",
       "      <td>...</td>\n",
       "      <td>1</td>\n",
       "      <td>1</td>\n",
       "      <td>1</td>\n",
       "      <td>1</td>\n",
       "      <td>1</td>\n",
       "      <td>1</td>\n",
       "      <td>2</td>\n",
       "      <td>0</td>\n",
       "      <td>18.0</td>\n",
       "      <td>0</td>\n",
       "    </tr>\n",
       "    <tr>\n",
       "      <th>3</th>\n",
       "      <td>4</td>\n",
       "      <td>Female</td>\n",
       "      <td>Loyal Customer</td>\n",
       "      <td>27</td>\n",
       "      <td>Business travel</td>\n",
       "      <td>Business</td>\n",
       "      <td>1550</td>\n",
       "      <td>3</td>\n",
       "      <td>3</td>\n",
       "      <td>3</td>\n",
       "      <td>...</td>\n",
       "      <td>2</td>\n",
       "      <td>4</td>\n",
       "      <td>4</td>\n",
       "      <td>5</td>\n",
       "      <td>5</td>\n",
       "      <td>4</td>\n",
       "      <td>2</td>\n",
       "      <td>0</td>\n",
       "      <td>0.0</td>\n",
       "      <td>1</td>\n",
       "    </tr>\n",
       "    <tr>\n",
       "      <th>4</th>\n",
       "      <td>5</td>\n",
       "      <td>Male</td>\n",
       "      <td>Loyal Customer</td>\n",
       "      <td>11</td>\n",
       "      <td>Personal Travel</td>\n",
       "      <td>Eco</td>\n",
       "      <td>526</td>\n",
       "      <td>3</td>\n",
       "      <td>4</td>\n",
       "      <td>3</td>\n",
       "      <td>...</td>\n",
       "      <td>4</td>\n",
       "      <td>5</td>\n",
       "      <td>2</td>\n",
       "      <td>5</td>\n",
       "      <td>3</td>\n",
       "      <td>5</td>\n",
       "      <td>4</td>\n",
       "      <td>0</td>\n",
       "      <td>10.0</td>\n",
       "      <td>0</td>\n",
       "    </tr>\n",
       "  </tbody>\n",
       "</table>\n",
       "<p>5 rows × 24 columns</p>\n",
       "</div>"
      ],
      "text/plain": [
       "   id  Gender      Customer Type  Age   Type of Travel     Class  \\\n",
       "0   1    Male  disloyal Customer   33  Business travel       Eco   \n",
       "1   2  Female     Loyal Customer   49  Business travel  Business   \n",
       "2   3  Female     Loyal Customer   43  Business travel       Eco   \n",
       "3   4  Female     Loyal Customer   27  Business travel  Business   \n",
       "4   5    Male     Loyal Customer   11  Personal Travel       Eco   \n",
       "\n",
       "   Flight Distance  Inflight wifi service  Departure/Arrival time convenient  \\\n",
       "0              571                      2                                  3   \n",
       "1             1431                      4                                  1   \n",
       "2              867                      1                                  4   \n",
       "3             1550                      3                                  3   \n",
       "4              526                      3                                  4   \n",
       "\n",
       "   Ease of Online booking  ...  Inflight entertainment  On-board service  \\\n",
       "0                       2  ...                       4                 3   \n",
       "1                       4  ...                       5                 5   \n",
       "2                       4  ...                       1                 1   \n",
       "3                       3  ...                       2                 4   \n",
       "4                       3  ...                       4                 5   \n",
       "\n",
       "   Leg room service  Baggage handling  Checkin service  Inflight service  \\\n",
       "0                 1                 3                4                 3   \n",
       "1                 5                 5                3                 5   \n",
       "2                 1                 1                1                 1   \n",
       "3                 4                 5                5                 4   \n",
       "4                 2                 5                3                 5   \n",
       "\n",
       "   Cleanliness  Departure Delay in Minutes  Arrival Delay in Minutes  \\\n",
       "0            4                          10                       3.0   \n",
       "1            3                           0                       0.0   \n",
       "2            2                           0                      18.0   \n",
       "3            2                           0                       0.0   \n",
       "4            4                           0                      10.0   \n",
       "\n",
       "   satisfaction  \n",
       "0             0  \n",
       "1             1  \n",
       "2             0  \n",
       "3             1  \n",
       "4             0  \n",
       "\n",
       "[5 rows x 24 columns]"
      ]
     },
     "execution_count": 2,
     "metadata": {},
     "output_type": "execute_result"
    }
   ],
   "source": [
    "df = pd.read_csv('/kaggle/input/aviakompaniya/train_dataset.csv')\n",
    "df.head()"
   ]
  },
  {
   "cell_type": "markdown",
   "id": "7748807a",
   "metadata": {
    "papermill": {
     "duration": 0.014005,
     "end_time": "2022-12-12T10:51:17.784798",
     "exception": false,
     "start_time": "2022-12-12T10:51:17.770793",
     "status": "completed"
    },
    "tags": []
   },
   "source": [
    "Renaming columns"
   ]
  },
  {
   "cell_type": "code",
   "execution_count": 3,
   "id": "3447b2d2",
   "metadata": {
    "execution": {
     "iopub.execute_input": "2022-12-12T10:51:17.819194Z",
     "iopub.status.busy": "2022-12-12T10:51:17.818329Z",
     "iopub.status.idle": "2022-12-12T10:51:17.846733Z",
     "shell.execute_reply": "2022-12-12T10:51:17.845974Z"
    },
    "papermill": {
     "duration": 0.048417,
     "end_time": "2022-12-12T10:51:17.848821",
     "exception": false,
     "start_time": "2022-12-12T10:51:17.800404",
     "status": "completed"
    },
    "tags": []
   },
   "outputs": [
    {
     "data": {
      "text/html": [
       "<div>\n",
       "<style scoped>\n",
       "    .dataframe tbody tr th:only-of-type {\n",
       "        vertical-align: middle;\n",
       "    }\n",
       "\n",
       "    .dataframe tbody tr th {\n",
       "        vertical-align: top;\n",
       "    }\n",
       "\n",
       "    .dataframe thead th {\n",
       "        text-align: right;\n",
       "    }\n",
       "</style>\n",
       "<table border=\"1\" class=\"dataframe\">\n",
       "  <thead>\n",
       "    <tr style=\"text-align: right;\">\n",
       "      <th></th>\n",
       "      <th>id</th>\n",
       "      <th>gender</th>\n",
       "      <th>customer_type</th>\n",
       "      <th>age</th>\n",
       "      <th>travel_type</th>\n",
       "      <th>class</th>\n",
       "      <th>distance</th>\n",
       "      <th>wifi</th>\n",
       "      <th>time</th>\n",
       "      <th>booking</th>\n",
       "      <th>...</th>\n",
       "      <th>entertainment</th>\n",
       "      <th>on_board</th>\n",
       "      <th>leg_room</th>\n",
       "      <th>baggage</th>\n",
       "      <th>checkin</th>\n",
       "      <th>inflight</th>\n",
       "      <th>cleanliness</th>\n",
       "      <th>departure_delay</th>\n",
       "      <th>arrival_delay</th>\n",
       "      <th>satisfaction</th>\n",
       "    </tr>\n",
       "  </thead>\n",
       "  <tbody>\n",
       "    <tr>\n",
       "      <th>0</th>\n",
       "      <td>1</td>\n",
       "      <td>Male</td>\n",
       "      <td>disloyal Customer</td>\n",
       "      <td>33</td>\n",
       "      <td>Business travel</td>\n",
       "      <td>Eco</td>\n",
       "      <td>571</td>\n",
       "      <td>2</td>\n",
       "      <td>3</td>\n",
       "      <td>2</td>\n",
       "      <td>...</td>\n",
       "      <td>4</td>\n",
       "      <td>3</td>\n",
       "      <td>1</td>\n",
       "      <td>3</td>\n",
       "      <td>4</td>\n",
       "      <td>3</td>\n",
       "      <td>4</td>\n",
       "      <td>10</td>\n",
       "      <td>3.0</td>\n",
       "      <td>0</td>\n",
       "    </tr>\n",
       "    <tr>\n",
       "      <th>1</th>\n",
       "      <td>2</td>\n",
       "      <td>Female</td>\n",
       "      <td>Loyal Customer</td>\n",
       "      <td>49</td>\n",
       "      <td>Business travel</td>\n",
       "      <td>Business</td>\n",
       "      <td>1431</td>\n",
       "      <td>4</td>\n",
       "      <td>1</td>\n",
       "      <td>4</td>\n",
       "      <td>...</td>\n",
       "      <td>5</td>\n",
       "      <td>5</td>\n",
       "      <td>5</td>\n",
       "      <td>5</td>\n",
       "      <td>3</td>\n",
       "      <td>5</td>\n",
       "      <td>3</td>\n",
       "      <td>0</td>\n",
       "      <td>0.0</td>\n",
       "      <td>1</td>\n",
       "    </tr>\n",
       "    <tr>\n",
       "      <th>2</th>\n",
       "      <td>3</td>\n",
       "      <td>Female</td>\n",
       "      <td>Loyal Customer</td>\n",
       "      <td>43</td>\n",
       "      <td>Business travel</td>\n",
       "      <td>Eco</td>\n",
       "      <td>867</td>\n",
       "      <td>1</td>\n",
       "      <td>4</td>\n",
       "      <td>4</td>\n",
       "      <td>...</td>\n",
       "      <td>1</td>\n",
       "      <td>1</td>\n",
       "      <td>1</td>\n",
       "      <td>1</td>\n",
       "      <td>1</td>\n",
       "      <td>1</td>\n",
       "      <td>2</td>\n",
       "      <td>0</td>\n",
       "      <td>18.0</td>\n",
       "      <td>0</td>\n",
       "    </tr>\n",
       "    <tr>\n",
       "      <th>3</th>\n",
       "      <td>4</td>\n",
       "      <td>Female</td>\n",
       "      <td>Loyal Customer</td>\n",
       "      <td>27</td>\n",
       "      <td>Business travel</td>\n",
       "      <td>Business</td>\n",
       "      <td>1550</td>\n",
       "      <td>3</td>\n",
       "      <td>3</td>\n",
       "      <td>3</td>\n",
       "      <td>...</td>\n",
       "      <td>2</td>\n",
       "      <td>4</td>\n",
       "      <td>4</td>\n",
       "      <td>5</td>\n",
       "      <td>5</td>\n",
       "      <td>4</td>\n",
       "      <td>2</td>\n",
       "      <td>0</td>\n",
       "      <td>0.0</td>\n",
       "      <td>1</td>\n",
       "    </tr>\n",
       "    <tr>\n",
       "      <th>4</th>\n",
       "      <td>5</td>\n",
       "      <td>Male</td>\n",
       "      <td>Loyal Customer</td>\n",
       "      <td>11</td>\n",
       "      <td>Personal Travel</td>\n",
       "      <td>Eco</td>\n",
       "      <td>526</td>\n",
       "      <td>3</td>\n",
       "      <td>4</td>\n",
       "      <td>3</td>\n",
       "      <td>...</td>\n",
       "      <td>4</td>\n",
       "      <td>5</td>\n",
       "      <td>2</td>\n",
       "      <td>5</td>\n",
       "      <td>3</td>\n",
       "      <td>5</td>\n",
       "      <td>4</td>\n",
       "      <td>0</td>\n",
       "      <td>10.0</td>\n",
       "      <td>0</td>\n",
       "    </tr>\n",
       "  </tbody>\n",
       "</table>\n",
       "<p>5 rows × 24 columns</p>\n",
       "</div>"
      ],
      "text/plain": [
       "   id  gender      customer_type  age      travel_type     class  distance  \\\n",
       "0   1    Male  disloyal Customer   33  Business travel       Eco       571   \n",
       "1   2  Female     Loyal Customer   49  Business travel  Business      1431   \n",
       "2   3  Female     Loyal Customer   43  Business travel       Eco       867   \n",
       "3   4  Female     Loyal Customer   27  Business travel  Business      1550   \n",
       "4   5    Male     Loyal Customer   11  Personal Travel       Eco       526   \n",
       "\n",
       "   wifi  time  booking  ...  entertainment  on_board  leg_room  baggage  \\\n",
       "0     2     3        2  ...              4         3         1        3   \n",
       "1     4     1        4  ...              5         5         5        5   \n",
       "2     1     4        4  ...              1         1         1        1   \n",
       "3     3     3        3  ...              2         4         4        5   \n",
       "4     3     4        3  ...              4         5         2        5   \n",
       "\n",
       "   checkin  inflight  cleanliness  departure_delay  arrival_delay  \\\n",
       "0        4         3            4               10            3.0   \n",
       "1        3         5            3                0            0.0   \n",
       "2        1         1            2                0           18.0   \n",
       "3        5         4            2                0            0.0   \n",
       "4        3         5            4                0           10.0   \n",
       "\n",
       "   satisfaction  \n",
       "0             0  \n",
       "1             1  \n",
       "2             0  \n",
       "3             1  \n",
       "4             0  \n",
       "\n",
       "[5 rows x 24 columns]"
      ]
     },
     "execution_count": 3,
     "metadata": {},
     "output_type": "execute_result"
    }
   ],
   "source": [
    "columns = [\n",
    "    'id',\n",
    "    'gender',\n",
    "    'customer_type',\n",
    "    'age',\n",
    "    'travel_type',\n",
    "    'class',\n",
    "    'distance',\n",
    "    'wifi',\n",
    "    'time',\n",
    "    'booking',\n",
    "    'gate',\n",
    "    'food',\n",
    "    'boarding',\n",
    "    'seat',\n",
    "    'entertainment',\n",
    "    'on_board',\n",
    "    'leg_room',\n",
    "    'baggage',\n",
    "    'checkin',\n",
    "    'inflight',\n",
    "    'cleanliness',\n",
    "    'departure_delay',\n",
    "    'arrival_delay',\n",
    "    'satisfaction'\n",
    "]\n",
    "df.columns = columns\n",
    "df.head()"
   ]
  },
  {
   "cell_type": "markdown",
   "id": "e8e58030",
   "metadata": {
    "papermill": {
     "duration": 0.013422,
     "end_time": "2022-12-12T10:51:17.876117",
     "exception": false,
     "start_time": "2022-12-12T10:51:17.862695",
     "status": "completed"
    },
    "tags": []
   },
   "source": [
    "# Exploring data"
   ]
  },
  {
   "cell_type": "code",
   "execution_count": 4,
   "id": "5bf59190",
   "metadata": {
    "execution": {
     "iopub.execute_input": "2022-12-12T10:51:17.905449Z",
     "iopub.status.busy": "2022-12-12T10:51:17.904530Z",
     "iopub.status.idle": "2022-12-12T10:51:17.930239Z",
     "shell.execute_reply": "2022-12-12T10:51:17.928386Z"
    },
    "papermill": {
     "duration": 0.04306,
     "end_time": "2022-12-12T10:51:17.932720",
     "exception": false,
     "start_time": "2022-12-12T10:51:17.889660",
     "status": "completed"
    },
    "tags": []
   },
   "outputs": [
    {
     "name": "stdout",
     "output_type": "stream",
     "text": [
      "<class 'pandas.core.frame.DataFrame'>\n",
      "RangeIndex: 10000 entries, 0 to 9999\n",
      "Data columns (total 24 columns):\n",
      " #   Column           Non-Null Count  Dtype  \n",
      "---  ------           --------------  -----  \n",
      " 0   id               10000 non-null  int64  \n",
      " 1   gender           10000 non-null  object \n",
      " 2   customer_type    10000 non-null  object \n",
      " 3   age              10000 non-null  int64  \n",
      " 4   travel_type      10000 non-null  object \n",
      " 5   class            10000 non-null  object \n",
      " 6   distance         10000 non-null  int64  \n",
      " 7   wifi             10000 non-null  int64  \n",
      " 8   time             10000 non-null  int64  \n",
      " 9   booking          10000 non-null  int64  \n",
      " 10  gate             10000 non-null  int64  \n",
      " 11  food             10000 non-null  int64  \n",
      " 12  boarding         10000 non-null  int64  \n",
      " 13  seat             10000 non-null  int64  \n",
      " 14  entertainment    10000 non-null  int64  \n",
      " 15  on_board         10000 non-null  int64  \n",
      " 16  leg_room         10000 non-null  int64  \n",
      " 17  baggage          10000 non-null  int64  \n",
      " 18  checkin          10000 non-null  int64  \n",
      " 19  inflight         10000 non-null  int64  \n",
      " 20  cleanliness      10000 non-null  int64  \n",
      " 21  departure_delay  10000 non-null  int64  \n",
      " 22  arrival_delay    9972 non-null   float64\n",
      " 23  satisfaction     10000 non-null  int64  \n",
      "dtypes: float64(1), int64(19), object(4)\n",
      "memory usage: 1.8+ MB\n"
     ]
    }
   ],
   "source": [
    "df.info()"
   ]
  },
  {
   "cell_type": "markdown",
   "id": "53ae2f85",
   "metadata": {
    "papermill": {
     "duration": 0.013448,
     "end_time": "2022-12-12T10:51:17.960095",
     "exception": false,
     "start_time": "2022-12-12T10:51:17.946647",
     "status": "completed"
    },
    "tags": []
   },
   "source": [
    "## Cheking for duplicates"
   ]
  },
  {
   "cell_type": "code",
   "execution_count": 5,
   "id": "3ee9993a",
   "metadata": {
    "execution": {
     "iopub.execute_input": "2022-12-12T10:51:17.989408Z",
     "iopub.status.busy": "2022-12-12T10:51:17.988997Z",
     "iopub.status.idle": "2022-12-12T10:51:18.009891Z",
     "shell.execute_reply": "2022-12-12T10:51:18.009070Z"
    },
    "papermill": {
     "duration": 0.038407,
     "end_time": "2022-12-12T10:51:18.012244",
     "exception": false,
     "start_time": "2022-12-12T10:51:17.973837",
     "status": "completed"
    },
    "tags": []
   },
   "outputs": [
    {
     "data": {
      "text/plain": [
       "486"
      ]
     },
     "execution_count": 5,
     "metadata": {},
     "output_type": "execute_result"
    }
   ],
   "source": [
    "subset=['gender', 'customer_type', 'age', 'travel_type', 'class',\n",
    "       'distance', 'wifi', 'time', 'booking', 'gate', 'food', 'boarding',\n",
    "       'seat', 'entertainment', 'on_board', 'leg_room', 'baggage', 'checkin',\n",
    "       'inflight', 'cleanliness', 'departure_delay', 'arrival_delay', 'satisfaction']\n",
    "df.duplicated(subset=subset).sum()"
   ]
  },
  {
   "cell_type": "code",
   "execution_count": 6,
   "id": "44b64782",
   "metadata": {
    "execution": {
     "iopub.execute_input": "2022-12-12T10:51:18.042490Z",
     "iopub.status.busy": "2022-12-12T10:51:18.041305Z",
     "iopub.status.idle": "2022-12-12T10:51:18.058198Z",
     "shell.execute_reply": "2022-12-12T10:51:18.056996Z"
    },
    "papermill": {
     "duration": 0.034584,
     "end_time": "2022-12-12T10:51:18.060862",
     "exception": false,
     "start_time": "2022-12-12T10:51:18.026278",
     "status": "completed"
    },
    "tags": []
   },
   "outputs": [],
   "source": [
    "df.drop_duplicates(subset=subset, inplace=True)"
   ]
  },
  {
   "cell_type": "markdown",
   "id": "af445bf7",
   "metadata": {
    "papermill": {
     "duration": 0.01365,
     "end_time": "2022-12-12T10:51:18.088434",
     "exception": false,
     "start_time": "2022-12-12T10:51:18.074784",
     "status": "completed"
    },
    "tags": []
   },
   "source": [
    "## Descriptive statistics"
   ]
  },
  {
   "cell_type": "code",
   "execution_count": 7,
   "id": "24e7c41e",
   "metadata": {
    "execution": {
     "iopub.execute_input": "2022-12-12T10:51:18.125184Z",
     "iopub.status.busy": "2022-12-12T10:51:18.123977Z",
     "iopub.status.idle": "2022-12-12T10:51:18.201067Z",
     "shell.execute_reply": "2022-12-12T10:51:18.199795Z"
    },
    "papermill": {
     "duration": 0.099856,
     "end_time": "2022-12-12T10:51:18.203464",
     "exception": false,
     "start_time": "2022-12-12T10:51:18.103608",
     "status": "completed"
    },
    "tags": []
   },
   "outputs": [
    {
     "data": {
      "text/html": [
       "<div>\n",
       "<style scoped>\n",
       "    .dataframe tbody tr th:only-of-type {\n",
       "        vertical-align: middle;\n",
       "    }\n",
       "\n",
       "    .dataframe tbody tr th {\n",
       "        vertical-align: top;\n",
       "    }\n",
       "\n",
       "    .dataframe thead th {\n",
       "        text-align: right;\n",
       "    }\n",
       "</style>\n",
       "<table border=\"1\" class=\"dataframe\">\n",
       "  <thead>\n",
       "    <tr style=\"text-align: right;\">\n",
       "      <th></th>\n",
       "      <th>count</th>\n",
       "      <th>mean</th>\n",
       "      <th>std</th>\n",
       "      <th>min</th>\n",
       "      <th>25%</th>\n",
       "      <th>50%</th>\n",
       "      <th>75%</th>\n",
       "      <th>max</th>\n",
       "    </tr>\n",
       "  </thead>\n",
       "  <tbody>\n",
       "    <tr>\n",
       "      <th>id</th>\n",
       "      <td>9514.0</td>\n",
       "      <td>4916.311226</td>\n",
       "      <td>2885.779157</td>\n",
       "      <td>1.0</td>\n",
       "      <td>2405.25</td>\n",
       "      <td>4885.5</td>\n",
       "      <td>7397.75</td>\n",
       "      <td>10000.0</td>\n",
       "    </tr>\n",
       "    <tr>\n",
       "      <th>age</th>\n",
       "      <td>9514.0</td>\n",
       "      <td>39.370822</td>\n",
       "      <td>14.900369</td>\n",
       "      <td>7.0</td>\n",
       "      <td>27.00</td>\n",
       "      <td>40.0</td>\n",
       "      <td>51.00</td>\n",
       "      <td>80.0</td>\n",
       "    </tr>\n",
       "    <tr>\n",
       "      <th>distance</th>\n",
       "      <td>9514.0</td>\n",
       "      <td>1229.935674</td>\n",
       "      <td>1021.709952</td>\n",
       "      <td>31.0</td>\n",
       "      <td>421.25</td>\n",
       "      <td>866.5</td>\n",
       "      <td>1801.75</td>\n",
       "      <td>4983.0</td>\n",
       "    </tr>\n",
       "    <tr>\n",
       "      <th>wifi</th>\n",
       "      <td>9514.0</td>\n",
       "      <td>2.782846</td>\n",
       "      <td>1.358226</td>\n",
       "      <td>0.0</td>\n",
       "      <td>2.00</td>\n",
       "      <td>3.0</td>\n",
       "      <td>4.00</td>\n",
       "      <td>5.0</td>\n",
       "    </tr>\n",
       "    <tr>\n",
       "      <th>time</th>\n",
       "      <td>9514.0</td>\n",
       "      <td>3.073891</td>\n",
       "      <td>1.522978</td>\n",
       "      <td>0.0</td>\n",
       "      <td>2.00</td>\n",
       "      <td>3.0</td>\n",
       "      <td>4.00</td>\n",
       "      <td>5.0</td>\n",
       "    </tr>\n",
       "    <tr>\n",
       "      <th>booking</th>\n",
       "      <td>9514.0</td>\n",
       "      <td>2.800294</td>\n",
       "      <td>1.417798</td>\n",
       "      <td>0.0</td>\n",
       "      <td>2.00</td>\n",
       "      <td>3.0</td>\n",
       "      <td>4.00</td>\n",
       "      <td>5.0</td>\n",
       "    </tr>\n",
       "    <tr>\n",
       "      <th>gate</th>\n",
       "      <td>9514.0</td>\n",
       "      <td>2.983393</td>\n",
       "      <td>1.281120</td>\n",
       "      <td>1.0</td>\n",
       "      <td>2.00</td>\n",
       "      <td>3.0</td>\n",
       "      <td>4.00</td>\n",
       "      <td>5.0</td>\n",
       "    </tr>\n",
       "    <tr>\n",
       "      <th>food</th>\n",
       "      <td>9514.0</td>\n",
       "      <td>3.213895</td>\n",
       "      <td>1.333007</td>\n",
       "      <td>0.0</td>\n",
       "      <td>2.00</td>\n",
       "      <td>3.0</td>\n",
       "      <td>4.00</td>\n",
       "      <td>5.0</td>\n",
       "    </tr>\n",
       "    <tr>\n",
       "      <th>boarding</th>\n",
       "      <td>9514.0</td>\n",
       "      <td>3.345701</td>\n",
       "      <td>1.353288</td>\n",
       "      <td>0.0</td>\n",
       "      <td>2.00</td>\n",
       "      <td>4.0</td>\n",
       "      <td>4.00</td>\n",
       "      <td>5.0</td>\n",
       "    </tr>\n",
       "    <tr>\n",
       "      <th>seat</th>\n",
       "      <td>9514.0</td>\n",
       "      <td>3.490330</td>\n",
       "      <td>1.312419</td>\n",
       "      <td>0.0</td>\n",
       "      <td>3.00</td>\n",
       "      <td>4.0</td>\n",
       "      <td>5.00</td>\n",
       "      <td>5.0</td>\n",
       "    </tr>\n",
       "    <tr>\n",
       "      <th>entertainment</th>\n",
       "      <td>9514.0</td>\n",
       "      <td>3.403931</td>\n",
       "      <td>1.331704</td>\n",
       "      <td>0.0</td>\n",
       "      <td>2.00</td>\n",
       "      <td>4.0</td>\n",
       "      <td>5.00</td>\n",
       "      <td>5.0</td>\n",
       "    </tr>\n",
       "    <tr>\n",
       "      <th>on_board</th>\n",
       "      <td>9514.0</td>\n",
       "      <td>3.452701</td>\n",
       "      <td>1.275191</td>\n",
       "      <td>1.0</td>\n",
       "      <td>3.00</td>\n",
       "      <td>4.0</td>\n",
       "      <td>4.00</td>\n",
       "      <td>5.0</td>\n",
       "    </tr>\n",
       "    <tr>\n",
       "      <th>leg_room</th>\n",
       "      <td>9514.0</td>\n",
       "      <td>3.416754</td>\n",
       "      <td>1.307804</td>\n",
       "      <td>0.0</td>\n",
       "      <td>2.00</td>\n",
       "      <td>4.0</td>\n",
       "      <td>5.00</td>\n",
       "      <td>5.0</td>\n",
       "    </tr>\n",
       "    <tr>\n",
       "      <th>baggage</th>\n",
       "      <td>9514.0</td>\n",
       "      <td>3.674164</td>\n",
       "      <td>1.189936</td>\n",
       "      <td>1.0</td>\n",
       "      <td>3.00</td>\n",
       "      <td>4.0</td>\n",
       "      <td>5.00</td>\n",
       "      <td>5.0</td>\n",
       "    </tr>\n",
       "    <tr>\n",
       "      <th>checkin</th>\n",
       "      <td>9514.0</td>\n",
       "      <td>3.357789</td>\n",
       "      <td>1.260052</td>\n",
       "      <td>0.0</td>\n",
       "      <td>3.00</td>\n",
       "      <td>3.0</td>\n",
       "      <td>4.00</td>\n",
       "      <td>5.0</td>\n",
       "    </tr>\n",
       "    <tr>\n",
       "      <th>inflight</th>\n",
       "      <td>9514.0</td>\n",
       "      <td>3.679840</td>\n",
       "      <td>1.173519</td>\n",
       "      <td>1.0</td>\n",
       "      <td>3.00</td>\n",
       "      <td>4.0</td>\n",
       "      <td>5.00</td>\n",
       "      <td>5.0</td>\n",
       "    </tr>\n",
       "    <tr>\n",
       "      <th>cleanliness</th>\n",
       "      <td>9514.0</td>\n",
       "      <td>3.314484</td>\n",
       "      <td>1.312077</td>\n",
       "      <td>0.0</td>\n",
       "      <td>2.00</td>\n",
       "      <td>3.0</td>\n",
       "      <td>4.00</td>\n",
       "      <td>5.0</td>\n",
       "    </tr>\n",
       "    <tr>\n",
       "      <th>departure_delay</th>\n",
       "      <td>9514.0</td>\n",
       "      <td>14.411078</td>\n",
       "      <td>38.693603</td>\n",
       "      <td>0.0</td>\n",
       "      <td>0.00</td>\n",
       "      <td>0.0</td>\n",
       "      <td>12.00</td>\n",
       "      <td>921.0</td>\n",
       "    </tr>\n",
       "    <tr>\n",
       "      <th>arrival_delay</th>\n",
       "      <td>9486.0</td>\n",
       "      <td>14.691651</td>\n",
       "      <td>39.111353</td>\n",
       "      <td>0.0</td>\n",
       "      <td>0.00</td>\n",
       "      <td>0.0</td>\n",
       "      <td>13.00</td>\n",
       "      <td>924.0</td>\n",
       "    </tr>\n",
       "    <tr>\n",
       "      <th>satisfaction</th>\n",
       "      <td>9514.0</td>\n",
       "      <td>0.496952</td>\n",
       "      <td>0.500017</td>\n",
       "      <td>0.0</td>\n",
       "      <td>0.00</td>\n",
       "      <td>0.0</td>\n",
       "      <td>1.00</td>\n",
       "      <td>1.0</td>\n",
       "    </tr>\n",
       "  </tbody>\n",
       "</table>\n",
       "</div>"
      ],
      "text/plain": [
       "                  count         mean          std   min      25%     50%  \\\n",
       "id               9514.0  4916.311226  2885.779157   1.0  2405.25  4885.5   \n",
       "age              9514.0    39.370822    14.900369   7.0    27.00    40.0   \n",
       "distance         9514.0  1229.935674  1021.709952  31.0   421.25   866.5   \n",
       "wifi             9514.0     2.782846     1.358226   0.0     2.00     3.0   \n",
       "time             9514.0     3.073891     1.522978   0.0     2.00     3.0   \n",
       "booking          9514.0     2.800294     1.417798   0.0     2.00     3.0   \n",
       "gate             9514.0     2.983393     1.281120   1.0     2.00     3.0   \n",
       "food             9514.0     3.213895     1.333007   0.0     2.00     3.0   \n",
       "boarding         9514.0     3.345701     1.353288   0.0     2.00     4.0   \n",
       "seat             9514.0     3.490330     1.312419   0.0     3.00     4.0   \n",
       "entertainment    9514.0     3.403931     1.331704   0.0     2.00     4.0   \n",
       "on_board         9514.0     3.452701     1.275191   1.0     3.00     4.0   \n",
       "leg_room         9514.0     3.416754     1.307804   0.0     2.00     4.0   \n",
       "baggage          9514.0     3.674164     1.189936   1.0     3.00     4.0   \n",
       "checkin          9514.0     3.357789     1.260052   0.0     3.00     3.0   \n",
       "inflight         9514.0     3.679840     1.173519   1.0     3.00     4.0   \n",
       "cleanliness      9514.0     3.314484     1.312077   0.0     2.00     3.0   \n",
       "departure_delay  9514.0    14.411078    38.693603   0.0     0.00     0.0   \n",
       "arrival_delay    9486.0    14.691651    39.111353   0.0     0.00     0.0   \n",
       "satisfaction     9514.0     0.496952     0.500017   0.0     0.00     0.0   \n",
       "\n",
       "                     75%      max  \n",
       "id               7397.75  10000.0  \n",
       "age                51.00     80.0  \n",
       "distance         1801.75   4983.0  \n",
       "wifi                4.00      5.0  \n",
       "time                4.00      5.0  \n",
       "booking             4.00      5.0  \n",
       "gate                4.00      5.0  \n",
       "food                4.00      5.0  \n",
       "boarding            4.00      5.0  \n",
       "seat                5.00      5.0  \n",
       "entertainment       5.00      5.0  \n",
       "on_board            4.00      5.0  \n",
       "leg_room            5.00      5.0  \n",
       "baggage             5.00      5.0  \n",
       "checkin             4.00      5.0  \n",
       "inflight            5.00      5.0  \n",
       "cleanliness         4.00      5.0  \n",
       "departure_delay    12.00    921.0  \n",
       "arrival_delay      13.00    924.0  \n",
       "satisfaction        1.00      1.0  "
      ]
     },
     "execution_count": 7,
     "metadata": {},
     "output_type": "execute_result"
    }
   ],
   "source": [
    "df.describe().T"
   ]
  },
  {
   "cell_type": "markdown",
   "id": "96a4444d",
   "metadata": {
    "papermill": {
     "duration": 0.014486,
     "end_time": "2022-12-12T10:51:18.233672",
     "exception": false,
     "start_time": "2022-12-12T10:51:18.219186",
     "status": "completed"
    },
    "tags": []
   },
   "source": [
    "## Correlation"
   ]
  },
  {
   "cell_type": "code",
   "execution_count": 8,
   "id": "23f45f12",
   "metadata": {
    "execution": {
     "iopub.execute_input": "2022-12-12T10:51:18.265166Z",
     "iopub.status.busy": "2022-12-12T10:51:18.264623Z",
     "iopub.status.idle": "2022-12-12T10:51:18.352747Z",
     "shell.execute_reply": "2022-12-12T10:51:18.351661Z"
    },
    "papermill": {
     "duration": 0.10701,
     "end_time": "2022-12-12T10:51:18.355699",
     "exception": false,
     "start_time": "2022-12-12T10:51:18.248689",
     "status": "completed"
    },
    "tags": []
   },
   "outputs": [
    {
     "data": {
      "text/html": [
       "<style type=\"text/css\">\n",
       "#T_e5adc_row0_col0 {\n",
       "  background-color: #ffffd9;\n",
       "  color: #000000;\n",
       "}\n",
       "#T_e5adc_row1_col0 {\n",
       "  background-color: #e8f6b1;\n",
       "  color: #000000;\n",
       "}\n",
       "#T_e5adc_row2_col0 {\n",
       "  background-color: #a9ddb7;\n",
       "  color: #000000;\n",
       "}\n",
       "#T_e5adc_row3_col0 {\n",
       "  background-color: #b7e3b6;\n",
       "  color: #000000;\n",
       "}\n",
       "#T_e5adc_row4_col0 {\n",
       "  background-color: #f5fbc4;\n",
       "  color: #000000;\n",
       "}\n",
       "#T_e5adc_row5_col0 {\n",
       "  background-color: #e1f3b2;\n",
       "  color: #000000;\n",
       "}\n",
       "#T_e5adc_row6_col0 {\n",
       "  background-color: #feffd6;\n",
       "  color: #000000;\n",
       "}\n",
       "#T_e5adc_row7_col0 {\n",
       "  background-color: #d4eeb3;\n",
       "  color: #000000;\n",
       "}\n",
       "#T_e5adc_row8_col0 {\n",
       "  background-color: #40b5c4;\n",
       "  color: #f1f1f1;\n",
       "}\n",
       "#T_e5adc_row9_col0 {\n",
       "  background-color: #92d5b9;\n",
       "  color: #000000;\n",
       "}\n",
       "#T_e5adc_row10_col0 {\n",
       "  background-color: #73c8bd;\n",
       "  color: #000000;\n",
       "}\n",
       "#T_e5adc_row11_col0, #T_e5adc_row12_col0 {\n",
       "  background-color: #9ed9b8;\n",
       "  color: #000000;\n",
       "}\n",
       "#T_e5adc_row13_col0 {\n",
       "  background-color: #c9eab4;\n",
       "  color: #000000;\n",
       "}\n",
       "#T_e5adc_row14_col0 {\n",
       "  background-color: #cdebb4;\n",
       "  color: #000000;\n",
       "}\n",
       "#T_e5adc_row15_col0 {\n",
       "  background-color: #caeab4;\n",
       "  color: #000000;\n",
       "}\n",
       "#T_e5adc_row16_col0 {\n",
       "  background-color: #a5dcb7;\n",
       "  color: #000000;\n",
       "}\n",
       "#T_e5adc_row17_col0 {\n",
       "  background-color: #f9fdcc;\n",
       "  color: #000000;\n",
       "}\n",
       "#T_e5adc_row18_col0 {\n",
       "  background-color: #f8fcca;\n",
       "  color: #000000;\n",
       "}\n",
       "#T_e5adc_row19_col0 {\n",
       "  background-color: #081d58;\n",
       "  color: #f1f1f1;\n",
       "}\n",
       "</style>\n",
       "<table id=\"T_e5adc_\">\n",
       "  <thead>\n",
       "    <tr>\n",
       "      <th class=\"blank level0\" >&nbsp;</th>\n",
       "      <th class=\"col_heading level0 col0\" >satisfaction</th>\n",
       "    </tr>\n",
       "  </thead>\n",
       "  <tbody>\n",
       "    <tr>\n",
       "      <th id=\"T_e5adc_level0_row0\" class=\"row_heading level0 row0\" >id</th>\n",
       "      <td id=\"T_e5adc_row0_col0\" class=\"data row0 col0\" >0.000835</td>\n",
       "    </tr>\n",
       "    <tr>\n",
       "      <th id=\"T_e5adc_level0_row1\" class=\"row_heading level0 row1\" >age</th>\n",
       "      <td id=\"T_e5adc_row1_col0\" class=\"data row1 col0\" >0.141822</td>\n",
       "    </tr>\n",
       "    <tr>\n",
       "      <th id=\"T_e5adc_level0_row2\" class=\"row_heading level0 row2\" >distance</th>\n",
       "      <td id=\"T_e5adc_row2_col0\" class=\"data row2 col0\" >0.302166</td>\n",
       "    </tr>\n",
       "    <tr>\n",
       "      <th id=\"T_e5adc_level0_row3\" class=\"row_heading level0 row3\" >wifi</th>\n",
       "      <td id=\"T_e5adc_row3_col0\" class=\"data row3 col0\" >0.279029</td>\n",
       "    </tr>\n",
       "    <tr>\n",
       "      <th id=\"T_e5adc_level0_row4\" class=\"row_heading level0 row4\" >time</th>\n",
       "      <td id=\"T_e5adc_row4_col0\" class=\"data row4 col0\" >0.068655</td>\n",
       "    </tr>\n",
       "    <tr>\n",
       "      <th id=\"T_e5adc_level0_row5\" class=\"row_heading level0 row5\" >booking</th>\n",
       "      <td id=\"T_e5adc_row5_col0\" class=\"data row5 col0\" >0.165808</td>\n",
       "    </tr>\n",
       "    <tr>\n",
       "      <th id=\"T_e5adc_level0_row6\" class=\"row_heading level0 row6\" >gate</th>\n",
       "      <td id=\"T_e5adc_row6_col0\" class=\"data row6 col0\" >0.009439</td>\n",
       "    </tr>\n",
       "    <tr>\n",
       "      <th id=\"T_e5adc_level0_row7\" class=\"row_heading level0 row7\" >food</th>\n",
       "      <td id=\"T_e5adc_row7_col0\" class=\"data row7 col0\" >0.211445</td>\n",
       "    </tr>\n",
       "    <tr>\n",
       "      <th id=\"T_e5adc_level0_row8\" class=\"row_heading level0 row8\" >boarding</th>\n",
       "      <td id=\"T_e5adc_row8_col0\" class=\"data row8 col0\" >0.503101</td>\n",
       "    </tr>\n",
       "    <tr>\n",
       "      <th id=\"T_e5adc_level0_row9\" class=\"row_heading level0 row9\" >seat</th>\n",
       "      <td id=\"T_e5adc_row9_col0\" class=\"data row9 col0\" >0.343875</td>\n",
       "    </tr>\n",
       "    <tr>\n",
       "      <th id=\"T_e5adc_level0_row10\" class=\"row_heading level0 row10\" >entertainment</th>\n",
       "      <td id=\"T_e5adc_row10_col0\" class=\"data row10 col0\" >0.401330</td>\n",
       "    </tr>\n",
       "    <tr>\n",
       "      <th id=\"T_e5adc_level0_row11\" class=\"row_heading level0 row11\" >on_board</th>\n",
       "      <td id=\"T_e5adc_row11_col0\" class=\"data row11 col0\" >0.323564</td>\n",
       "    </tr>\n",
       "    <tr>\n",
       "      <th id=\"T_e5adc_level0_row12\" class=\"row_heading level0 row12\" >leg_room</th>\n",
       "      <td id=\"T_e5adc_row12_col0\" class=\"data row12 col0\" >0.324169</td>\n",
       "    </tr>\n",
       "    <tr>\n",
       "      <th id=\"T_e5adc_level0_row13\" class=\"row_heading level0 row13\" >baggage</th>\n",
       "      <td id=\"T_e5adc_row13_col0\" class=\"data row13 col0\" >0.246558</td>\n",
       "    </tr>\n",
       "    <tr>\n",
       "      <th id=\"T_e5adc_level0_row14\" class=\"row_heading level0 row14\" >checkin</th>\n",
       "      <td id=\"T_e5adc_row14_col0\" class=\"data row14 col0\" >0.232809</td>\n",
       "    </tr>\n",
       "    <tr>\n",
       "      <th id=\"T_e5adc_level0_row15\" class=\"row_heading level0 row15\" >inflight</th>\n",
       "      <td id=\"T_e5adc_row15_col0\" class=\"data row15 col0\" >0.240542</td>\n",
       "    </tr>\n",
       "    <tr>\n",
       "      <th id=\"T_e5adc_level0_row16\" class=\"row_heading level0 row16\" >cleanliness</th>\n",
       "      <td id=\"T_e5adc_row16_col0\" class=\"data row16 col0\" >0.312464</td>\n",
       "    </tr>\n",
       "    <tr>\n",
       "      <th id=\"T_e5adc_level0_row17\" class=\"row_heading level0 row17\" >departure_delay</th>\n",
       "      <td id=\"T_e5adc_row17_col0\" class=\"data row17 col0\" >0.042850</td>\n",
       "    </tr>\n",
       "    <tr>\n",
       "      <th id=\"T_e5adc_level0_row18\" class=\"row_heading level0 row18\" >arrival_delay</th>\n",
       "      <td id=\"T_e5adc_row18_col0\" class=\"data row18 col0\" >0.048312</td>\n",
       "    </tr>\n",
       "    <tr>\n",
       "      <th id=\"T_e5adc_level0_row19\" class=\"row_heading level0 row19\" >satisfaction</th>\n",
       "      <td id=\"T_e5adc_row19_col0\" class=\"data row19 col0\" >1.000000</td>\n",
       "    </tr>\n",
       "  </tbody>\n",
       "</table>\n"
      ],
      "text/plain": [
       "<pandas.io.formats.style.Styler at 0x7f62a5e6bdd0>"
      ]
     },
     "execution_count": 8,
     "metadata": {},
     "output_type": "execute_result"
    }
   ],
   "source": [
    "df.corr()[['satisfaction']].abs().style.background_gradient('YlGnBu')"
   ]
  },
  {
   "cell_type": "markdown",
   "id": "7748840b",
   "metadata": {
    "papermill": {
     "duration": 0.014682,
     "end_time": "2022-12-12T10:51:18.385755",
     "exception": false,
     "start_time": "2022-12-12T10:51:18.371073",
     "status": "completed"
    },
    "tags": []
   },
   "source": [
    "# Visualization"
   ]
  },
  {
   "cell_type": "markdown",
   "id": "64688d69",
   "metadata": {
    "papermill": {
     "duration": 0.01425,
     "end_time": "2022-12-12T10:51:18.414626",
     "exception": false,
     "start_time": "2022-12-12T10:51:18.400376",
     "status": "completed"
    },
    "tags": []
   },
   "source": [
    "## Visualizing categorical columns"
   ]
  },
  {
   "cell_type": "code",
   "execution_count": 9,
   "id": "5e036f89",
   "metadata": {
    "execution": {
     "iopub.execute_input": "2022-12-12T10:51:18.453410Z",
     "iopub.status.busy": "2022-12-12T10:51:18.452038Z",
     "iopub.status.idle": "2022-12-12T10:51:18.938997Z",
     "shell.execute_reply": "2022-12-12T10:51:18.937762Z"
    },
    "papermill": {
     "duration": 0.508295,
     "end_time": "2022-12-12T10:51:18.941547",
     "exception": false,
     "start_time": "2022-12-12T10:51:18.433252",
     "status": "completed"
    },
    "tags": []
   },
   "outputs": [
    {
     "data": {
      "image/png": "[encoded data removed]",
      "text/plain": [
       "<Figure size 1440x720 with 4 Axes>"
      ]
     },
     "metadata": {
      "needs_background": "light"
     },
     "output_type": "display_data"
    }
   ],
   "source": [
    "plt.figure(figsize=(20,10))\n",
    "\n",
    "plt.subplot(2,2,1)\n",
    "sns.countplot(y=df['gender'])\n",
    "\n",
    "plt.subplot(2,2,2)\n",
    "sns.countplot(y=df['customer_type'])\n",
    "\n",
    "plt.subplot(2,2,3)\n",
    "sns.countplot(y=df['travel_type'])\n",
    "\n",
    "plt.subplot(2,2,4)\n",
    "sns.countplot(y=df['class'])\n",
    "plt.show()"
   ]
  },
  {
   "cell_type": "markdown",
   "id": "224bde13",
   "metadata": {
    "papermill": {
     "duration": 0.015017,
     "end_time": "2022-12-12T10:51:18.971946",
     "exception": false,
     "start_time": "2022-12-12T10:51:18.956929",
     "status": "completed"
    },
    "tags": []
   },
   "source": [
    "## Checking numerical columns for outliers"
   ]
  },
  {
   "cell_type": "code",
   "execution_count": 10,
   "id": "7b0d37c1",
   "metadata": {
    "execution": {
     "iopub.execute_input": "2022-12-12T10:51:19.004480Z",
     "iopub.status.busy": "2022-12-12T10:51:19.004086Z",
     "iopub.status.idle": "2022-12-12T10:51:22.092581Z",
     "shell.execute_reply": "2022-12-12T10:51:22.091794Z"
    },
    "papermill": {
     "duration": 3.107393,
     "end_time": "2022-12-12T10:51:22.094583",
     "exception": false,
     "start_time": "2022-12-12T10:51:18.987190",
     "status": "completed"
    },
    "tags": []
   },
   "outputs": [
    {
     "data": {
      "image/png": "[encoded data removed]",
      "text/plain": [
       "<Figure size 1440x360 with 2 Axes>"
      ]
     },
     "metadata": {
      "needs_background": "light"
     },
     "output_type": "display_data"
    }
   ],
   "source": [
    "plt.figure(figsize=(20, 5))\n",
    "\n",
    "plt.subplot(1,2,1)\n",
    "sns.histplot(df['departure_delay'])\n",
    "\n",
    "plt.subplot(1,2,2)\n",
    "sns.histplot(df['arrival_delay'])\n",
    "\n",
    "plt.show()"
   ]
  },
  {
   "cell_type": "code",
   "execution_count": 11,
   "id": "d9c92df2",
   "metadata": {
    "execution": {
     "iopub.execute_input": "2022-12-12T10:51:22.128081Z",
     "iopub.status.busy": "2022-12-12T10:51:22.127332Z",
     "iopub.status.idle": "2022-12-12T10:51:22.384937Z",
     "shell.execute_reply": "2022-12-12T10:51:22.382794Z"
    },
    "papermill": {
     "duration": 0.277023,
     "end_time": "2022-12-12T10:51:22.387487",
     "exception": false,
     "start_time": "2022-12-12T10:51:22.110464",
     "status": "completed"
    },
    "tags": []
   },
   "outputs": [
    {
     "name": "stderr",
     "output_type": "stream",
     "text": [
      "/opt/conda/lib/python3.7/site-packages/seaborn/_decorators.py:43: FutureWarning: Pass the following variable as a keyword arg: x. From version 0.12, the only valid positional argument will be `data`, and passing other arguments without an explicit keyword will result in an error or misinterpretation.\n",
      "  FutureWarning\n",
      "/opt/conda/lib/python3.7/site-packages/seaborn/_decorators.py:43: FutureWarning: Pass the following variable as a keyword arg: x. From version 0.12, the only valid positional argument will be `data`, and passing other arguments without an explicit keyword will result in an error or misinterpretation.\n",
      "  FutureWarning\n"
     ]
    },
    {
     "data": {
      "image/png": "[encoded data removed]",
      "text/plain": [
       "<Figure size 1440x360 with 2 Axes>"
      ]
     },
     "metadata": {
      "needs_background": "light"
     },
     "output_type": "display_data"
    }
   ],
   "source": [
    "plt.figure(figsize=(20, 5))\n",
    "\n",
    "plt.subplot(1,2,1)\n",
    "sns.boxplot(df['departure_delay'])\n",
    "\n",
    "plt.subplot(1,2,2)\n",
    "sns.boxplot(df['arrival_delay'])\n",
    "\n",
    "plt.show()"
   ]
  },
  {
   "cell_type": "code",
   "execution_count": 12,
   "id": "7a51af4c",
   "metadata": {
    "execution": {
     "iopub.execute_input": "2022-12-12T10:51:22.421162Z",
     "iopub.status.busy": "2022-12-12T10:51:22.420270Z",
     "iopub.status.idle": "2022-12-12T10:51:22.428561Z",
     "shell.execute_reply": "2022-12-12T10:51:22.427822Z"
    },
    "papermill": {
     "duration": 0.027521,
     "end_time": "2022-12-12T10:51:22.430652",
     "exception": false,
     "start_time": "2022-12-12T10:51:22.403131",
     "status": "completed"
    },
    "tags": []
   },
   "outputs": [
    {
     "data": {
      "text/plain": [
       "0.15766239226403195"
      ]
     },
     "execution_count": 12,
     "metadata": {},
     "output_type": "execute_result"
    }
   ],
   "source": [
    "mask = (df['arrival_delay'] > 350) & (df['departure_delay'] > 350)\n",
    "len(df[mask])/len(df)*100"
   ]
  },
  {
   "cell_type": "markdown",
   "id": "fe58d74e",
   "metadata": {
    "papermill": {
     "duration": 0.016007,
     "end_time": "2022-12-12T10:51:22.463043",
     "exception": false,
     "start_time": "2022-12-12T10:51:22.447036",
     "status": "completed"
    },
    "tags": []
   },
   "source": [
    "> 0.157% of data are outliers."
   ]
  },
  {
   "cell_type": "code",
   "execution_count": 13,
   "id": "318ddae0",
   "metadata": {
    "execution": {
     "iopub.execute_input": "2022-12-12T10:51:22.496784Z",
     "iopub.status.busy": "2022-12-12T10:51:22.496052Z",
     "iopub.status.idle": "2022-12-12T10:51:22.509794Z",
     "shell.execute_reply": "2022-12-12T10:51:22.508696Z"
    },
    "papermill": {
     "duration": 0.033193,
     "end_time": "2022-12-12T10:51:22.512159",
     "exception": false,
     "start_time": "2022-12-12T10:51:22.478966",
     "status": "completed"
    },
    "tags": []
   },
   "outputs": [
    {
     "data": {
      "text/plain": [
       "id                  0\n",
       "gender              0\n",
       "customer_type       0\n",
       "age                 0\n",
       "travel_type         0\n",
       "class               0\n",
       "distance            0\n",
       "wifi                0\n",
       "time                0\n",
       "booking             0\n",
       "gate                0\n",
       "food                0\n",
       "boarding            0\n",
       "seat                0\n",
       "entertainment       0\n",
       "on_board            0\n",
       "leg_room            0\n",
       "baggage             0\n",
       "checkin             0\n",
       "inflight            0\n",
       "cleanliness         0\n",
       "departure_delay     0\n",
       "arrival_delay      28\n",
       "satisfaction        0\n",
       "dtype: int64"
      ]
     },
     "execution_count": 13,
     "metadata": {},
     "output_type": "execute_result"
    }
   ],
   "source": [
    "df.drop(\n",
    "    index=df[mask].index,\n",
    "    inplace=True\n",
    ")\n",
    "df.isnull().sum()"
   ]
  },
  {
   "cell_type": "markdown",
   "id": "a6b9609f",
   "metadata": {
    "papermill": {
     "duration": 0.016291,
     "end_time": "2022-12-12T10:51:22.544828",
     "exception": false,
     "start_time": "2022-12-12T10:51:22.528537",
     "status": "completed"
    },
    "tags": []
   },
   "source": [
    "Filling in missing values"
   ]
  },
  {
   "cell_type": "code",
   "execution_count": 14,
   "id": "b723efa0",
   "metadata": {
    "execution": {
     "iopub.execute_input": "2022-12-12T10:51:22.579805Z",
     "iopub.status.busy": "2022-12-12T10:51:22.579029Z",
     "iopub.status.idle": "2022-12-12T10:51:22.590980Z",
     "shell.execute_reply": "2022-12-12T10:51:22.590087Z"
    },
    "papermill": {
     "duration": 0.032025,
     "end_time": "2022-12-12T10:51:22.593180",
     "exception": false,
     "start_time": "2022-12-12T10:51:22.561155",
     "status": "completed"
    },
    "tags": []
   },
   "outputs": [
    {
     "data": {
      "text/plain": [
       "0"
      ]
     },
     "execution_count": 14,
     "metadata": {},
     "output_type": "execute_result"
    }
   ],
   "source": [
    "df['arrival_delay'].fillna(0, inplace=True)\n",
    "df.isnull().sum().sum()"
   ]
  },
  {
   "cell_type": "markdown",
   "id": "92b5e25e",
   "metadata": {
    "papermill": {
     "duration": 0.015686,
     "end_time": "2022-12-12T10:51:22.624968",
     "exception": false,
     "start_time": "2022-12-12T10:51:22.609282",
     "status": "completed"
    },
    "tags": []
   },
   "source": [
    "## Summary"
   ]
  },
  {
   "cell_type": "code",
   "execution_count": 15,
   "id": "0fb9abfc",
   "metadata": {
    "execution": {
     "iopub.execute_input": "2022-12-12T10:51:22.659287Z",
     "iopub.status.busy": "2022-12-12T10:51:22.658507Z",
     "iopub.status.idle": "2022-12-12T10:51:22.877022Z",
     "shell.execute_reply": "2022-12-12T10:51:22.876181Z"
    },
    "papermill": {
     "duration": 0.23822,
     "end_time": "2022-12-12T10:51:22.879347",
     "exception": false,
     "start_time": "2022-12-12T10:51:22.641127",
     "status": "completed"
    },
    "tags": []
   },
   "outputs": [
    {
     "data": {
      "image/png": "[encoded data removed]",
      "text/plain": [
       "<Figure size 432x288 with 1 Axes>"
      ]
     },
     "metadata": {
      "needs_background": "light"
     },
     "output_type": "display_data"
    }
   ],
   "source": [
    "sns.countplot(data=df, x='gender', hue='class')\n",
    "plt.show()"
   ]
  },
  {
   "cell_type": "markdown",
   "id": "64396dd8",
   "metadata": {
    "papermill": {
     "duration": 0.016276,
     "end_time": "2022-12-12T10:51:22.911943",
     "exception": false,
     "start_time": "2022-12-12T10:51:22.895667",
     "status": "completed"
    },
    "tags": []
   },
   "source": [
    "> The ratio of choosing flight classes does not differ by gender"
   ]
  },
  {
   "cell_type": "code",
   "execution_count": 16,
   "id": "0e4bbaee",
   "metadata": {
    "execution": {
     "iopub.execute_input": "2022-12-12T10:51:22.947608Z",
     "iopub.status.busy": "2022-12-12T10:51:22.946863Z",
     "iopub.status.idle": "2022-12-12T10:51:23.160508Z",
     "shell.execute_reply": "2022-12-12T10:51:23.159697Z"
    },
    "papermill": {
     "duration": 0.234365,
     "end_time": "2022-12-12T10:51:23.162682",
     "exception": false,
     "start_time": "2022-12-12T10:51:22.928317",
     "status": "completed"
    },
    "tags": []
   },
   "outputs": [
    {
     "data": {
      "image/png": "[encoded data removed]",
      "text/plain": [
       "<Figure size 432x288 with 1 Axes>"
      ]
     },
     "metadata": {
      "needs_background": "light"
     },
     "output_type": "display_data"
    }
   ],
   "source": [
    "sns.countplot(data=df, x='travel_type', hue='class')\n",
    "plt.show()"
   ]
  },
  {
   "cell_type": "markdown",
   "id": "08caf1c7",
   "metadata": {
    "papermill": {
     "duration": 0.016328,
     "end_time": "2022-12-12T10:51:23.195705",
     "exception": false,
     "start_time": "2022-12-12T10:51:23.179377",
     "status": "completed"
    },
    "tags": []
   },
   "source": [
    "> Business travelers mostly choose business class, and personal travelers mostly choose eco class."
   ]
  },
  {
   "cell_type": "code",
   "execution_count": 17,
   "id": "07d1724e",
   "metadata": {
    "execution": {
     "iopub.execute_input": "2022-12-12T10:51:23.231247Z",
     "iopub.status.busy": "2022-12-12T10:51:23.230461Z",
     "iopub.status.idle": "2022-12-12T10:51:24.084277Z",
     "shell.execute_reply": "2022-12-12T10:51:24.082974Z"
    },
    "papermill": {
     "duration": 0.874728,
     "end_time": "2022-12-12T10:51:24.086974",
     "exception": false,
     "start_time": "2022-12-12T10:51:23.212246",
     "status": "completed"
    },
    "tags": []
   },
   "outputs": [
    {
     "data": {
      "image/png": "[encoded data removed]",
      "text/plain": [
       "<Figure size 1440x288 with 3 Axes>"
      ]
     },
     "metadata": {
      "needs_background": "light"
     },
     "output_type": "display_data"
    }
   ],
   "source": [
    "plt.figure(figsize=(20, 4))\n",
    "\n",
    "plt.subplot(1,3,1)\n",
    "sns.kdeplot(data=df, x='age', hue='gender', fill=True)\n",
    "\n",
    "plt.subplot(1,3,2)\n",
    "sns.kdeplot(data=df, x='age', hue='customer_type', fill=True)\n",
    "\n",
    "plt.subplot(1,3,3)\n",
    "sns.kdeplot(data=df, x='age', hue='class', fill=True)\n",
    "plt.show()"
   ]
  },
  {
   "cell_type": "markdown",
   "id": "45c6538f",
   "metadata": {
    "papermill": {
     "duration": 0.017263,
     "end_time": "2022-12-12T10:51:24.122141",
     "exception": false,
     "start_time": "2022-12-12T10:51:24.104878",
     "status": "completed"
    },
    "tags": []
   },
   "source": [
    "> The age distribution of passengers does not differ by gender, and the majority of passengers are around 42 years old.\n",
    "\n",
    "> Most of the loyal customers are around 42 years old, while most of the disloyal customers are around 25 years old.\n",
    "\n",
    "> 42-year-old customers mostly choose business class, and 20-year-old customers mostly choose eco class."
   ]
  },
  {
   "cell_type": "code",
   "execution_count": 18,
   "id": "81d3f707",
   "metadata": {
    "execution": {
     "iopub.execute_input": "2022-12-12T10:51:24.159407Z",
     "iopub.status.busy": "2022-12-12T10:51:24.158515Z",
     "iopub.status.idle": "2022-12-12T10:51:24.827646Z",
     "shell.execute_reply": "2022-12-12T10:51:24.826309Z"
    },
    "papermill": {
     "duration": 0.690443,
     "end_time": "2022-12-12T10:51:24.830081",
     "exception": false,
     "start_time": "2022-12-12T10:51:24.139638",
     "status": "completed"
    },
    "tags": []
   },
   "outputs": [
    {
     "data": {
      "image/png": "[encoded data removed]",
      "text/plain": [
       "<Figure size 1440x288 with 3 Axes>"
      ]
     },
     "metadata": {
      "needs_background": "light"
     },
     "output_type": "display_data"
    }
   ],
   "source": [
    "plt.figure(figsize=(20, 4))\n",
    "\n",
    "plt.subplot(1,3,1)\n",
    "sns.kdeplot(data=df, x='distance', hue='travel_type', fill=True)\n",
    "\n",
    "plt.subplot(1,3,2)\n",
    "sns.kdeplot(data=df, x='distance', hue='customer_type', fill=True)\n",
    "\n",
    "plt.subplot(1,3,3)\n",
    "sns.kdeplot(data=df, x='distance', hue='gender', fill=True)\n",
    "plt.show()"
   ]
  },
  {
   "cell_type": "markdown",
   "id": "148e5ac7",
   "metadata": {
    "papermill": {
     "duration": 0.019464,
     "end_time": "2022-12-12T10:51:24.868444",
     "exception": false,
     "start_time": "2022-12-12T10:51:24.848980",
     "status": "completed"
    },
    "tags": []
   },
   "source": [
    "> The majority of customers usually travel distances of around 500km, regardless of travel type, loyalty and gender."
   ]
  },
  {
   "cell_type": "markdown",
   "id": "fc2c2144",
   "metadata": {
    "papermill": {
     "duration": 0.018981,
     "end_time": "2022-12-12T10:51:24.906118",
     "exception": false,
     "start_time": "2022-12-12T10:51:24.887137",
     "status": "completed"
    },
    "tags": []
   },
   "source": [
    "# Machine learning"
   ]
  },
  {
   "cell_type": "markdown",
   "id": "fb9c5962",
   "metadata": {
    "papermill": {
     "duration": 0.018742,
     "end_time": "2022-12-12T10:51:24.943423",
     "exception": false,
     "start_time": "2022-12-12T10:51:24.924681",
     "status": "completed"
    },
    "tags": []
   },
   "source": [
    "## Preparing"
   ]
  },
  {
   "cell_type": "code",
   "execution_count": 19,
   "id": "bd1da8dd",
   "metadata": {
    "execution": {
     "iopub.execute_input": "2022-12-12T10:51:24.983803Z",
     "iopub.status.busy": "2022-12-12T10:51:24.982692Z",
     "iopub.status.idle": "2022-12-12T10:51:25.000641Z",
     "shell.execute_reply": "2022-12-12T10:51:24.999333Z"
    },
    "papermill": {
     "duration": 0.040388,
     "end_time": "2022-12-12T10:51:25.003110",
     "exception": false,
     "start_time": "2022-12-12T10:51:24.962722",
     "status": "completed"
    },
    "tags": []
   },
   "outputs": [],
   "source": [
    "encoder = LabelEncoder()\n",
    "df['gender'] = encoder.fit_transform(df['gender'])\n",
    "df['customer_type'] = encoder.fit_transform(df['customer_type'])\n",
    "df['travel_type'] = encoder.fit_transform(df['travel_type'])\n",
    "df['class'] = encoder.fit_transform(df['class'])"
   ]
  },
  {
   "cell_type": "markdown",
   "id": "eeed193a",
   "metadata": {
    "papermill": {
     "duration": 0.018379,
     "end_time": "2022-12-12T10:51:25.040242",
     "exception": false,
     "start_time": "2022-12-12T10:51:25.021863",
     "status": "completed"
    },
    "tags": []
   },
   "source": [
    "Getting rid of low correlated columns"
   ]
  },
  {
   "cell_type": "code",
   "execution_count": 20,
   "id": "ad0781fb",
   "metadata": {
    "execution": {
     "iopub.execute_input": "2022-12-12T10:51:25.080240Z",
     "iopub.status.busy": "2022-12-12T10:51:25.079186Z",
     "iopub.status.idle": "2022-12-12T10:51:25.087349Z",
     "shell.execute_reply": "2022-12-12T10:51:25.086415Z"
    },
    "papermill": {
     "duration": 0.030433,
     "end_time": "2022-12-12T10:51:25.089578",
     "exception": false,
     "start_time": "2022-12-12T10:51:25.059145",
     "status": "completed"
    },
    "tags": []
   },
   "outputs": [],
   "source": [
    "X = df[['gender', 'customer_type', 'travel_type', 'class',\n",
    "       'distance', 'wifi', 'food', 'boarding',\n",
    "       'seat', 'entertainment', 'on_board', 'leg_room', 'baggage', 'checkin',\n",
    "       'inflight', 'cleanliness']].values"
   ]
  },
  {
   "cell_type": "code",
   "execution_count": 21,
   "id": "1b78687a",
   "metadata": {
    "execution": {
     "iopub.execute_input": "2022-12-12T10:51:25.128784Z",
     "iopub.status.busy": "2022-12-12T10:51:25.128131Z",
     "iopub.status.idle": "2022-12-12T10:51:25.133880Z",
     "shell.execute_reply": "2022-12-12T10:51:25.132643Z"
    },
    "papermill": {
     "duration": 0.027993,
     "end_time": "2022-12-12T10:51:25.136196",
     "exception": false,
     "start_time": "2022-12-12T10:51:25.108203",
     "status": "completed"
    },
    "tags": []
   },
   "outputs": [],
   "source": [
    "y = df['satisfaction'].values"
   ]
  },
  {
   "cell_type": "code",
   "execution_count": 22,
   "id": "a81805ad",
   "metadata": {
    "execution": {
     "iopub.execute_input": "2022-12-12T10:51:25.176414Z",
     "iopub.status.busy": "2022-12-12T10:51:25.175577Z",
     "iopub.status.idle": "2022-12-12T10:51:25.187944Z",
     "shell.execute_reply": "2022-12-12T10:51:25.187095Z"
    },
    "papermill": {
     "duration": 0.035279,
     "end_time": "2022-12-12T10:51:25.190387",
     "exception": false,
     "start_time": "2022-12-12T10:51:25.155108",
     "status": "completed"
    },
    "tags": []
   },
   "outputs": [],
   "source": [
    "# Train-test split\n",
    "X_train, X_test, y_train, y_test = train_test_split(X, y, test_size=0.2, random_state=20)\n",
    "\n",
    "# Scaling\n",
    "scaler = StandardScaler()\n",
    "\n",
    "X_train = scaler.fit_transform(X_train)\n",
    "X_test = scaler.fit_transform(X_test)"
   ]
  },
  {
   "cell_type": "markdown",
   "id": "568ad381",
   "metadata": {
    "papermill": {
     "duration": 0.018519,
     "end_time": "2022-12-12T10:51:25.227620",
     "exception": false,
     "start_time": "2022-12-12T10:51:25.209101",
     "status": "completed"
    },
    "tags": []
   },
   "source": [
    "## Training"
   ]
  },
  {
   "cell_type": "markdown",
   "id": "cf093335",
   "metadata": {
    "papermill": {
     "duration": 0.018559,
     "end_time": "2022-12-12T10:51:25.265313",
     "exception": false,
     "start_time": "2022-12-12T10:51:25.246754",
     "status": "completed"
    },
    "tags": []
   },
   "source": [
    "Decision Tree"
   ]
  },
  {
   "cell_type": "code",
   "execution_count": 23,
   "id": "7feeef46",
   "metadata": {
    "execution": {
     "iopub.execute_input": "2022-12-12T10:51:25.305395Z",
     "iopub.status.busy": "2022-12-12T10:51:25.304601Z",
     "iopub.status.idle": "2022-12-12T10:51:25.341496Z",
     "shell.execute_reply": "2022-12-12T10:51:25.340319Z"
    },
    "papermill": {
     "duration": 0.059992,
     "end_time": "2022-12-12T10:51:25.344318",
     "exception": false,
     "start_time": "2022-12-12T10:51:25.284326",
     "status": "completed"
    },
    "tags": []
   },
   "outputs": [],
   "source": [
    "tree_model = DecisionTreeClassifier()\n",
    "tree_model.fit(X_train, y_train)\n",
    "y_predict = tree_model.predict(X_test)"
   ]
  },
  {
   "cell_type": "code",
   "execution_count": 24,
   "id": "af597f1b",
   "metadata": {
    "execution": {
     "iopub.execute_input": "2022-12-12T10:51:25.383994Z",
     "iopub.status.busy": "2022-12-12T10:51:25.383566Z",
     "iopub.status.idle": "2022-12-12T10:51:25.644013Z",
     "shell.execute_reply": "2022-12-12T10:51:25.642795Z"
    },
    "papermill": {
     "duration": 0.283389,
     "end_time": "2022-12-12T10:51:25.646586",
     "exception": false,
     "start_time": "2022-12-12T10:51:25.363197",
     "status": "completed"
    },
    "tags": []
   },
   "outputs": [
    {
     "name": "stdout",
     "output_type": "stream",
     "text": [
      "              precision    recall  f1-score   support\n",
      "\n",
      "           0       0.92      0.93      0.93       965\n",
      "           1       0.93      0.92      0.93       935\n",
      "\n",
      "    accuracy                           0.93      1900\n",
      "   macro avg       0.93      0.93      0.93      1900\n",
      "weighted avg       0.93      0.93      0.93      1900\n",
      "\n",
      "Accuracy:  0.9273684210526316\n",
      "Precision:  0.9308108108108109\n",
      "Recall:  0.9208556149732621\n",
      "F1:  0.9258064516129032\n",
      "Jaccard:  0.8618618618618619\n"
     ]
    },
    {
     "data": {
      "image/png": "[encoded data removed]",
      "text/plain": [
       "<Figure size 432x288 with 2 Axes>"
      ]
     },
     "metadata": {
      "needs_background": "light"
     },
     "output_type": "display_data"
    }
   ],
   "source": [
    "# Evaluating\n",
    "print(classification_report(y_test, y_predict))\n",
    "print(\"Accuracy: \", accuracy_score(y_test, y_predict))\n",
    "print(\"Precision: \", precision_score(y_test, y_predict))\n",
    "print(\"Recall: \", recall_score(y_test, y_predict))\n",
    "print(\"F1: \", f1_score(y_test, y_predict))\n",
    "print(\"Jaccard: \", jaccard_score(y_test, y_predict))\n",
    "sns.heatmap(confusion_matrix(y_test, y_predict), annot=True)\n",
    "plt.show()"
   ]
  },
  {
   "cell_type": "code",
   "execution_count": 25,
   "id": "72c1aa57",
   "metadata": {
    "execution": {
     "iopub.execute_input": "2022-12-12T10:51:25.686957Z",
     "iopub.status.busy": "2022-12-12T10:51:25.686524Z",
     "iopub.status.idle": "2022-12-12T10:51:25.874272Z",
     "shell.execute_reply": "2022-12-12T10:51:25.872953Z"
    },
    "papermill": {
     "duration": 0.210744,
     "end_time": "2022-12-12T10:51:25.876592",
     "exception": false,
     "start_time": "2022-12-12T10:51:25.665848",
     "status": "completed"
    },
    "tags": []
   },
   "outputs": [
    {
     "name": "stdout",
     "output_type": "stream",
     "text": [
      "              precision    recall  f1-score   support\n",
      "\n",
      "           0       0.92      0.92      0.92      4780\n",
      "           1       0.92      0.92      0.92      4719\n",
      "\n",
      "    accuracy                           0.92      9499\n",
      "   macro avg       0.92      0.92      0.92      9499\n",
      "weighted avg       0.92      0.92      0.92      9499\n",
      "\n"
     ]
    }
   ],
   "source": [
    "# Evaluating with cross-validation\n",
    "predict = cross_val_predict(estimator = tree_model, X = X, y = y, cv = 5)\n",
    "print(classification_report(y, predict))"
   ]
  },
  {
   "cell_type": "markdown",
   "id": "00937588",
   "metadata": {
    "papermill": {
     "duration": 0.0191,
     "end_time": "2022-12-12T10:51:25.915036",
     "exception": false,
     "start_time": "2022-12-12T10:51:25.895936",
     "status": "completed"
    },
    "tags": []
   },
   "source": [
    "Random Forest"
   ]
  },
  {
   "cell_type": "code",
   "execution_count": 26,
   "id": "47c4c9c1",
   "metadata": {
    "execution": {
     "iopub.execute_input": "2022-12-12T10:51:25.956126Z",
     "iopub.status.busy": "2022-12-12T10:51:25.955153Z",
     "iopub.status.idle": "2022-12-12T10:51:26.872435Z",
     "shell.execute_reply": "2022-12-12T10:51:26.871485Z"
    },
    "papermill": {
     "duration": 0.940664,
     "end_time": "2022-12-12T10:51:26.874977",
     "exception": false,
     "start_time": "2022-12-12T10:51:25.934313",
     "status": "completed"
    },
    "tags": []
   },
   "outputs": [],
   "source": [
    "rf_model = RandomForestClassifier()\n",
    "rf_model.fit(X_train, y_train)\n",
    "y_predict = rf_model.predict(X_test)"
   ]
  },
  {
   "cell_type": "code",
   "execution_count": 27,
   "id": "adeedf1d",
   "metadata": {
    "execution": {
     "iopub.execute_input": "2022-12-12T10:51:26.915436Z",
     "iopub.status.busy": "2022-12-12T10:51:26.914752Z",
     "iopub.status.idle": "2022-12-12T10:51:27.171781Z",
     "shell.execute_reply": "2022-12-12T10:51:27.170591Z"
    },
    "papermill": {
     "duration": 0.280013,
     "end_time": "2022-12-12T10:51:27.174173",
     "exception": false,
     "start_time": "2022-12-12T10:51:26.894160",
     "status": "completed"
    },
    "tags": []
   },
   "outputs": [
    {
     "name": "stdout",
     "output_type": "stream",
     "text": [
      "              precision    recall  f1-score   support\n",
      "\n",
      "           0       0.94      0.96      0.95       965\n",
      "           1       0.96      0.93      0.95       935\n",
      "\n",
      "    accuracy                           0.95      1900\n",
      "   macro avg       0.95      0.95      0.95      1900\n",
      "weighted avg       0.95      0.95      0.95      1900\n",
      "\n",
      "Accuracy:  0.9478947368421052\n",
      "Precision:  0.9613686534216336\n",
      "Recall:  0.9315508021390374\n",
      "F1:  0.9462248777838131\n",
      "Jaccard:  0.8979381443298969\n"
     ]
    },
    {
     "data": {
      "image/png": "[encoded data removed]",
      "text/plain": [
       "<Figure size 432x288 with 2 Axes>"
      ]
     },
     "metadata": {
      "needs_background": "light"
     },
     "output_type": "display_data"
    }
   ],
   "source": [
    "# Evaluating\n",
    "print(classification_report(y_test, y_predict))\n",
    "print(\"Accuracy: \", accuracy_score(y_test, y_predict))\n",
    "print(\"Precision: \", precision_score(y_test, y_predict))\n",
    "print(\"Recall: \", recall_score(y_test, y_predict))\n",
    "print(\"F1: \", f1_score(y_test, y_predict))\n",
    "print(\"Jaccard: \", jaccard_score(y_test, y_predict))\n",
    "sns.heatmap(confusion_matrix(y_test, y_predict), annot=True)\n",
    "plt.show()"
   ]
  },
  {
   "cell_type": "code",
   "execution_count": 28,
   "id": "40385ef0",
   "metadata": {
    "execution": {
     "iopub.execute_input": "2022-12-12T10:51:27.217362Z",
     "iopub.status.busy": "2022-12-12T10:51:27.216935Z",
     "iopub.status.idle": "2022-12-12T10:51:31.713352Z",
     "shell.execute_reply": "2022-12-12T10:51:31.712137Z"
    },
    "papermill": {
     "duration": 4.522384,
     "end_time": "2022-12-12T10:51:31.715932",
     "exception": false,
     "start_time": "2022-12-12T10:51:27.193548",
     "status": "completed"
    },
    "tags": []
   },
   "outputs": [
    {
     "name": "stdout",
     "output_type": "stream",
     "text": [
      "              precision    recall  f1-score   support\n",
      "\n",
      "           0       0.94      0.96      0.95      4780\n",
      "           1       0.95      0.93      0.94      4719\n",
      "\n",
      "    accuracy                           0.95      9499\n",
      "   macro avg       0.95      0.95      0.95      9499\n",
      "weighted avg       0.95      0.95      0.95      9499\n",
      "\n"
     ]
    }
   ],
   "source": [
    "# Evaluating with cross-validation\n",
    "predict = cross_val_predict(estimator = rf_model, X = X, y = y, cv = 5)\n",
    "print(classification_report(y, predict))"
   ]
  },
  {
   "cell_type": "markdown",
   "id": "74ccb9ce",
   "metadata": {
    "papermill": {
     "duration": 0.018982,
     "end_time": "2022-12-12T10:51:31.754683",
     "exception": false,
     "start_time": "2022-12-12T10:51:31.735701",
     "status": "completed"
    },
    "tags": []
   },
   "source": [
    "SVC"
   ]
  },
  {
   "cell_type": "code",
   "execution_count": 29,
   "id": "d42f5ad1",
   "metadata": {
    "execution": {
     "iopub.execute_input": "2022-12-12T10:51:31.796210Z",
     "iopub.status.busy": "2022-12-12T10:51:31.795821Z",
     "iopub.status.idle": "2022-12-12T10:51:32.826328Z",
     "shell.execute_reply": "2022-12-12T10:51:32.825161Z"
    },
    "papermill": {
     "duration": 1.054221,
     "end_time": "2022-12-12T10:51:32.828983",
     "exception": false,
     "start_time": "2022-12-12T10:51:31.774762",
     "status": "completed"
    },
    "tags": []
   },
   "outputs": [],
   "source": [
    "svc_model = svm.SVC()\n",
    "svc_model.fit(X_train, y_train)\n",
    "y_predict = svc_model.predict(X_test)"
   ]
  },
  {
   "cell_type": "code",
   "execution_count": 30,
   "id": "2a8da312",
   "metadata": {
    "execution": {
     "iopub.execute_input": "2022-12-12T10:51:32.870327Z",
     "iopub.status.busy": "2022-12-12T10:51:32.869916Z",
     "iopub.status.idle": "2022-12-12T10:51:33.124593Z",
     "shell.execute_reply": "2022-12-12T10:51:33.123495Z"
    },
    "papermill": {
     "duration": 0.278364,
     "end_time": "2022-12-12T10:51:33.127061",
     "exception": false,
     "start_time": "2022-12-12T10:51:32.848697",
     "status": "completed"
    },
    "tags": []
   },
   "outputs": [
    {
     "name": "stdout",
     "output_type": "stream",
     "text": [
      "              precision    recall  f1-score   support\n",
      "\n",
      "           0       0.93      0.95      0.94       965\n",
      "           1       0.94      0.92      0.93       935\n",
      "\n",
      "    accuracy                           0.94      1900\n",
      "   macro avg       0.94      0.94      0.94      1900\n",
      "weighted avg       0.94      0.94      0.94      1900\n",
      "\n",
      "Accuracy:  0.9352631578947368\n",
      "Precision:  0.9432314410480349\n",
      "Recall:  0.9240641711229947\n",
      "F1:  0.93354943273906\n",
      "Jaccard:  0.8753799392097265\n"
     ]
    },
    {
     "data": {
      "image/png": "[encoded data removed]",
      "text/plain": [
       "<Figure size 432x288 with 2 Axes>"
      ]
     },
     "metadata": {
      "needs_background": "light"
     },
     "output_type": "display_data"
    }
   ],
   "source": [
    "# Evaluating\n",
    "print(classification_report(y_test, y_predict))\n",
    "print(\"Accuracy: \", accuracy_score(y_test, y_predict))\n",
    "print(\"Precision: \", precision_score(y_test, y_predict))\n",
    "print(\"Recall: \", recall_score(y_test, y_predict))\n",
    "print(\"F1: \", f1_score(y_test, y_predict))\n",
    "print(\"Jaccard: \", jaccard_score(y_test, y_predict))\n",
    "sns.heatmap(confusion_matrix(y_test, y_predict), annot=True)\n",
    "plt.show()"
   ]
  },
  {
   "cell_type": "code",
   "execution_count": 31,
   "id": "49d26d00",
   "metadata": {
    "execution": {
     "iopub.execute_input": "2022-12-12T10:51:33.169574Z",
     "iopub.status.busy": "2022-12-12T10:51:33.168581Z",
     "iopub.status.idle": "2022-12-12T10:51:54.164364Z",
     "shell.execute_reply": "2022-12-12T10:51:54.162719Z"
    },
    "papermill": {
     "duration": 21.019666,
     "end_time": "2022-12-12T10:51:54.166886",
     "exception": false,
     "start_time": "2022-12-12T10:51:33.147220",
     "status": "completed"
    },
    "tags": []
   },
   "outputs": [
    {
     "name": "stdout",
     "output_type": "stream",
     "text": [
      "              precision    recall  f1-score   support\n",
      "\n",
      "           0       0.61      0.82      0.70      4780\n",
      "           1       0.72      0.47      0.57      4719\n",
      "\n",
      "    accuracy                           0.65      9499\n",
      "   macro avg       0.66      0.64      0.63      9499\n",
      "weighted avg       0.66      0.65      0.63      9499\n",
      "\n"
     ]
    }
   ],
   "source": [
    "# Evaluating with cross-validation\n",
    "predict = cross_val_predict(estimator = svc_model, X = X, y = y, cv = 5)\n",
    "print(classification_report(y, predict))"
   ]
  },
  {
   "cell_type": "markdown",
   "id": "ed721757",
   "metadata": {
    "papermill": {
     "duration": 0.019503,
     "end_time": "2022-12-12T10:51:54.206337",
     "exception": false,
     "start_time": "2022-12-12T10:51:54.186834",
     "status": "completed"
    },
    "tags": []
   },
   "source": [
    "GradientBoostingClassifier"
   ]
  },
  {
   "cell_type": "code",
   "execution_count": 32,
   "id": "800e8212",
   "metadata": {
    "execution": {
     "iopub.execute_input": "2022-12-12T10:51:54.248387Z",
     "iopub.status.busy": "2022-12-12T10:51:54.248004Z",
     "iopub.status.idle": "2022-12-12T10:51:58.168410Z",
     "shell.execute_reply": "2022-12-12T10:51:58.167270Z"
    },
    "papermill": {
     "duration": 3.944748,
     "end_time": "2022-12-12T10:51:58.171206",
     "exception": false,
     "start_time": "2022-12-12T10:51:54.226458",
     "status": "completed"
    },
    "tags": []
   },
   "outputs": [
    {
     "data": {
      "text/plain": [
       "0.9478947368421052"
      ]
     },
     "execution_count": 32,
     "metadata": {},
     "output_type": "execute_result"
    }
   ],
   "source": [
    "gbc_model = GradientBoostingClassifier(n_estimators=100, learning_rate=0.1, max_depth=10, random_state=0)\n",
    "gbc_model.fit(X_train, y_train)\n",
    "y_predict = gbc_model.predict(X_test)\n",
    "gbc_model.score(X_test, y_test)"
   ]
  },
  {
   "cell_type": "code",
   "execution_count": 33,
   "id": "45a1fd3d",
   "metadata": {
    "execution": {
     "iopub.execute_input": "2022-12-12T10:51:58.213709Z",
     "iopub.status.busy": "2022-12-12T10:51:58.212597Z",
     "iopub.status.idle": "2022-12-12T10:51:58.468151Z",
     "shell.execute_reply": "2022-12-12T10:51:58.466964Z"
    },
    "papermill": {
     "duration": 0.279144,
     "end_time": "2022-12-12T10:51:58.470397",
     "exception": false,
     "start_time": "2022-12-12T10:51:58.191253",
     "status": "completed"
    },
    "tags": []
   },
   "outputs": [
    {
     "name": "stdout",
     "output_type": "stream",
     "text": [
      "              precision    recall  f1-score   support\n",
      "\n",
      "           0       0.94      0.96      0.95       965\n",
      "           1       0.96      0.93      0.95       935\n",
      "\n",
      "    accuracy                           0.95      1900\n",
      "   macro avg       0.95      0.95      0.95      1900\n",
      "weighted avg       0.95      0.95      0.95      1900\n",
      "\n",
      "Accuracy:  0.9478947368421052\n",
      "Precision:  0.9583333333333334\n",
      "Recall:  0.9347593582887701\n",
      "F1:  0.9463995668651869\n",
      "Jaccard:  0.8982528263103803\n"
     ]
    },
    {
     "data": {
      "image/png": "[encoded data removed]",
      "text/plain": [
       "<Figure size 432x288 with 2 Axes>"
      ]
     },
     "metadata": {
      "needs_background": "light"
     },
     "output_type": "display_data"
    }
   ],
   "source": [
    "# Evaluating\n",
    "print(classification_report(y_test, y_predict))\n",
    "print(\"Accuracy: \", accuracy_score(y_test, y_predict))\n",
    "print(\"Precision: \", precision_score(y_test, y_predict))\n",
    "print(\"Recall: \", recall_score(y_test, y_predict))\n",
    "print(\"F1: \", f1_score(y_test, y_predict))\n",
    "print(\"Jaccard: \", jaccard_score(y_test, y_predict))\n",
    "sns.heatmap(confusion_matrix(y_test, y_predict), annot=True)\n",
    "plt.show()"
   ]
  },
  {
   "cell_type": "code",
   "execution_count": 34,
   "id": "c97cde0c",
   "metadata": {
    "execution": {
     "iopub.execute_input": "2022-12-12T10:51:58.512554Z",
     "iopub.status.busy": "2022-12-12T10:51:58.512147Z",
     "iopub.status.idle": "2022-12-12T10:52:18.007875Z",
     "shell.execute_reply": "2022-12-12T10:52:18.005946Z"
    },
    "papermill": {
     "duration": 19.519699,
     "end_time": "2022-12-12T10:52:18.010521",
     "exception": false,
     "start_time": "2022-12-12T10:51:58.490822",
     "status": "completed"
    },
    "tags": []
   },
   "outputs": [
    {
     "name": "stdout",
     "output_type": "stream",
     "text": [
      "              precision    recall  f1-score   support\n",
      "\n",
      "           0       0.94      0.95      0.94      4780\n",
      "           1       0.95      0.94      0.94      4719\n",
      "\n",
      "    accuracy                           0.94      9499\n",
      "   macro avg       0.94      0.94      0.94      9499\n",
      "weighted avg       0.94      0.94      0.94      9499\n",
      "\n"
     ]
    }
   ],
   "source": [
    "# Evaluating with cross-validation\n",
    "predict = cross_val_predict(estimator = gbc_model, X = X, y = y, cv = 5)\n",
    "print(classification_report(y, predict))"
   ]
  },
  {
   "cell_type": "code",
   "execution_count": 35,
   "id": "b8e9e54e",
   "metadata": {
    "execution": {
     "iopub.execute_input": "2022-12-12T10:52:18.054700Z",
     "iopub.status.busy": "2022-12-12T10:52:18.054294Z",
     "iopub.status.idle": "2022-12-12T10:52:18.387212Z",
     "shell.execute_reply": "2022-12-12T10:52:18.385994Z"
    },
    "papermill": {
     "duration": 0.358279,
     "end_time": "2022-12-12T10:52:18.390057",
     "exception": false,
     "start_time": "2022-12-12T10:52:18.031778",
     "status": "completed"
    },
    "tags": []
   },
   "outputs": [],
   "source": [
    "knn_model = KNeighborsClassifier(n_neighbors=3)\n",
    "knn_model.fit(X_train, y_train)\n",
    "y_predict = knn_model.predict(X_test)"
   ]
  },
  {
   "cell_type": "code",
   "execution_count": 36,
   "id": "14109f18",
   "metadata": {
    "execution": {
     "iopub.execute_input": "2022-12-12T10:52:18.432790Z",
     "iopub.status.busy": "2022-12-12T10:52:18.431574Z",
     "iopub.status.idle": "2022-12-12T10:52:18.677485Z",
     "shell.execute_reply": "2022-12-12T10:52:18.676420Z"
    },
    "papermill": {
     "duration": 0.269845,
     "end_time": "2022-12-12T10:52:18.680136",
     "exception": false,
     "start_time": "2022-12-12T10:52:18.410291",
     "status": "completed"
    },
    "tags": []
   },
   "outputs": [
    {
     "name": "stdout",
     "output_type": "stream",
     "text": [
      "              precision    recall  f1-score   support\n",
      "\n",
      "           0       0.86      0.93      0.90       965\n",
      "           1       0.92      0.85      0.88       935\n",
      "\n",
      "    accuracy                           0.89      1900\n",
      "   macro avg       0.89      0.89      0.89      1900\n",
      "weighted avg       0.89      0.89      0.89      1900\n",
      "\n",
      "Accuracy:  0.8894736842105263\n",
      "Precision:  0.9220023282887078\n",
      "Recall:  0.8470588235294118\n",
      "F1:  0.882943143812709\n",
      "Jaccard:  0.7904191616766467\n"
     ]
    },
    {
     "data": {
      "image/png": "[encoded data removed]",
      "text/plain": [
       "<Figure size 432x288 with 2 Axes>"
      ]
     },
     "metadata": {
      "needs_background": "light"
     },
     "output_type": "display_data"
    }
   ],
   "source": [
    "# Evaluating\n",
    "print(classification_report(y_test, y_predict))\n",
    "print(\"Accuracy: \", accuracy_score(y_test, y_predict))\n",
    "print(\"Precision: \", precision_score(y_test, y_predict))\n",
    "print(\"Recall: \", recall_score(y_test, y_predict))\n",
    "print(\"F1: \", f1_score(y_test, y_predict))\n",
    "print(\"Jaccard: \", jaccard_score(y_test, y_predict))\n",
    "sns.heatmap(confusion_matrix(y_test, y_predict), annot=True)\n",
    "plt.show()"
   ]
  },
  {
   "cell_type": "code",
   "execution_count": 37,
   "id": "10fe0ee2",
   "metadata": {
    "execution": {
     "iopub.execute_input": "2022-12-12T10:52:18.723121Z",
     "iopub.status.busy": "2022-12-12T10:52:18.722249Z",
     "iopub.status.idle": "2022-12-12T10:52:20.228414Z",
     "shell.execute_reply": "2022-12-12T10:52:20.227319Z"
    },
    "papermill": {
     "duration": 1.530343,
     "end_time": "2022-12-12T10:52:20.230800",
     "exception": false,
     "start_time": "2022-12-12T10:52:18.700457",
     "status": "completed"
    },
    "tags": []
   },
   "outputs": [
    {
     "name": "stdout",
     "output_type": "stream",
     "text": [
      "              precision    recall  f1-score   support\n",
      "\n",
      "           0       0.75      0.77      0.76      4780\n",
      "           1       0.76      0.74      0.75      4719\n",
      "\n",
      "    accuracy                           0.76      9499\n",
      "   macro avg       0.76      0.76      0.76      9499\n",
      "weighted avg       0.76      0.76      0.76      9499\n",
      "\n"
     ]
    }
   ],
   "source": [
    "# Evaluating with cross-validation\n",
    "predict = cross_val_predict(estimator = knn_model, X = X, y = y, cv = 5)\n",
    "print(classification_report(y, predict))"
   ]
  },
  {
   "cell_type": "markdown",
   "id": "100d75ae",
   "metadata": {
    "papermill": {
     "duration": 0.020371,
     "end_time": "2022-12-12T10:52:20.272105",
     "exception": false,
     "start_time": "2022-12-12T10:52:20.251734",
     "status": "completed"
    },
    "tags": []
   },
   "source": [
    "# Submission"
   ]
  },
  {
   "cell_type": "code",
   "execution_count": 38,
   "id": "7119f508",
   "metadata": {
    "execution": {
     "iopub.execute_input": "2022-12-12T10:52:20.314879Z",
     "iopub.status.busy": "2022-12-12T10:52:20.314488Z",
     "iopub.status.idle": "2022-12-12T10:52:20.338688Z",
     "shell.execute_reply": "2022-12-12T10:52:20.337725Z"
    },
    "papermill": {
     "duration": 0.048629,
     "end_time": "2022-12-12T10:52:20.341303",
     "exception": false,
     "start_time": "2022-12-12T10:52:20.292674",
     "status": "completed"
    },
    "tags": []
   },
   "outputs": [],
   "source": [
    "submission = pd.read_csv('/kaggle/input/aviakompaniya/test_dataset.csv')"
   ]
  },
  {
   "cell_type": "code",
   "execution_count": 39,
   "id": "6f0ccc75",
   "metadata": {
    "execution": {
     "iopub.execute_input": "2022-12-12T10:52:20.384204Z",
     "iopub.status.busy": "2022-12-12T10:52:20.383806Z",
     "iopub.status.idle": "2022-12-12T10:52:20.399657Z",
     "shell.execute_reply": "2022-12-12T10:52:20.398545Z"
    },
    "papermill": {
     "duration": 0.039712,
     "end_time": "2022-12-12T10:52:20.401730",
     "exception": false,
     "start_time": "2022-12-12T10:52:20.362018",
     "status": "completed"
    },
    "tags": []
   },
   "outputs": [],
   "source": [
    "# Preparing\n",
    "submission.columns = columns[:-1]\n",
    "\n",
    "submission['gender'] = encoder.fit_transform(submission['gender'])\n",
    "submission['customer_type'] = encoder.fit_transform(submission['customer_type'])\n",
    "submission['travel_type'] = encoder.fit_transform(submission['travel_type'])\n",
    "submission['class'] = encoder.fit_transform(submission['class'])\n",
    "\n",
    "X = submission[['gender', 'customer_type', 'travel_type', 'class',\n",
    "       'distance', 'wifi', 'food', 'boarding',\n",
    "       'seat', 'entertainment', 'on_board', 'leg_room', 'baggage', 'checkin',\n",
    "       'inflight', 'cleanliness']].values\n",
    "X = scaler.fit_transform(X)"
   ]
  },
  {
   "cell_type": "code",
   "execution_count": 40,
   "id": "e1e6cb23",
   "metadata": {
    "execution": {
     "iopub.execute_input": "2022-12-12T10:52:20.444834Z",
     "iopub.status.busy": "2022-12-12T10:52:20.444423Z",
     "iopub.status.idle": "2022-12-12T10:52:20.478463Z",
     "shell.execute_reply": "2022-12-12T10:52:20.477291Z"
    },
    "papermill": {
     "duration": 0.058757,
     "end_time": "2022-12-12T10:52:20.481058",
     "exception": false,
     "start_time": "2022-12-12T10:52:20.422301",
     "status": "completed"
    },
    "tags": []
   },
   "outputs": [],
   "source": [
    "# Prediction\n",
    "y = gbc_model.predict(X)"
   ]
  },
  {
   "cell_type": "code",
   "execution_count": 41,
   "id": "a1742709",
   "metadata": {
    "execution": {
     "iopub.execute_input": "2022-12-12T10:52:20.524365Z",
     "iopub.status.busy": "2022-12-12T10:52:20.523966Z",
     "iopub.status.idle": "2022-12-12T10:52:20.540157Z",
     "shell.execute_reply": "2022-12-12T10:52:20.539236Z"
    },
    "papermill": {
     "duration": 0.040471,
     "end_time": "2022-12-12T10:52:20.542343",
     "exception": false,
     "start_time": "2022-12-12T10:52:20.501872",
     "status": "completed"
    },
    "tags": []
   },
   "outputs": [],
   "source": [
    "submission_file = pd.read_csv(\"/kaggle/input/aviakompaniya/sample_submission.csv\")\n",
    "submission_file['satisfaction'] = y\n",
    "submission_file.to_csv(\"submission.csv\", index=False)"
   ]
  }
 ],
 "metadata": {
  "kernelspec": {
   "display_name": "Python 3",
   "language": "python",
   "name": "python3"
  },
  "language_info": {
   "codemirror_mode": {
    "name": "ipython",
    "version": 3
   },
   "file_extension": ".py",
   "mimetype": "text/x-python",
   "name": "python",
   "nbconvert_exporter": "python",
   "pygments_lexer": "ipython3",
   "version": "3.7.12"
  },
  "papermill": {
   "default_parameters": {},
   "duration": 73.598714,
   "end_time": "2022-12-12T10:52:21.385169",
   "environment_variables": {},
   "exception": null,
   "input_path": "__notebook__.ipynb",
   "output_path": "__notebook__.ipynb",
   "parameters": {},
   "start_time": "2022-12-12T10:51:07.786455",
   "version": "2.3.4"
  }
 },
 "nbformat": 4,
 "nbformat_minor": 5
}
